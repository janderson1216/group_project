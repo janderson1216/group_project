{
 "cells": [
  {
   "cell_type": "code",
   "execution_count": 26,
   "metadata": {},
   "outputs": [],
   "source": [
    "%matplotlib inline"
   ]
  },
  {
   "cell_type": "code",
   "execution_count": 27,
   "metadata": {},
   "outputs": [],
   "source": [
    "# Import dependencies.\n",
    "import matplotlib.pyplot as plt"
   ]
  },
  {
   "cell_type": "code",
   "execution_count": 1,
   "metadata": {},
   "outputs": [],
   "source": [
    "import numpy as np\n",
    "import pandas as pd\n",
    "from pathlib import Path"
   ]
  },
  {
   "cell_type": "code",
   "execution_count": 2,
   "metadata": {},
   "outputs": [
    {
     "data": {
      "text/html": [
       "<div>\n",
       "<style scoped>\n",
       "    .dataframe tbody tr th:only-of-type {\n",
       "        vertical-align: middle;\n",
       "    }\n",
       "\n",
       "    .dataframe tbody tr th {\n",
       "        vertical-align: top;\n",
       "    }\n",
       "\n",
       "    .dataframe thead th {\n",
       "        text-align: right;\n",
       "    }\n",
       "</style>\n",
       "<table border=\"1\" class=\"dataframe\">\n",
       "  <thead>\n",
       "    <tr style=\"text-align: right;\">\n",
       "      <th></th>\n",
       "      <th>id</th>\n",
       "      <th>name</th>\n",
       "      <th>nationality</th>\n",
       "      <th>sex</th>\n",
       "      <th>dob</th>\n",
       "      <th>height</th>\n",
       "      <th>weight</th>\n",
       "      <th>sport</th>\n",
       "      <th>gold</th>\n",
       "      <th>silver</th>\n",
       "      <th>bronze</th>\n",
       "      <th>population</th>\n",
       "      <th>gdp_per_capita</th>\n",
       "      <th>dob_converted</th>\n",
       "      <th>age</th>\n",
       "      <th>total_medals</th>\n",
       "      <th>placed</th>\n",
       "    </tr>\n",
       "  </thead>\n",
       "  <tbody>\n",
       "    <tr>\n",
       "      <th>0</th>\n",
       "      <td>736041664</td>\n",
       "      <td>A Jesus Garcia</td>\n",
       "      <td>ESP</td>\n",
       "      <td>male</td>\n",
       "      <td>10/17/69</td>\n",
       "      <td>1.72</td>\n",
       "      <td>64.0</td>\n",
       "      <td>athletics</td>\n",
       "      <td>0</td>\n",
       "      <td>0</td>\n",
       "      <td>0</td>\n",
       "      <td>4.641827e+07</td>\n",
       "      <td>25831.582305</td>\n",
       "      <td>2069-10-17</td>\n",
       "      <td>46</td>\n",
       "      <td>0</td>\n",
       "      <td>0</td>\n",
       "    </tr>\n",
       "    <tr>\n",
       "      <th>1</th>\n",
       "      <td>532037425</td>\n",
       "      <td>A Lam Shin</td>\n",
       "      <td>KOR</td>\n",
       "      <td>female</td>\n",
       "      <td>9/23/86</td>\n",
       "      <td>1.68</td>\n",
       "      <td>56.0</td>\n",
       "      <td>fencing</td>\n",
       "      <td>0</td>\n",
       "      <td>0</td>\n",
       "      <td>0</td>\n",
       "      <td>5.061704e+07</td>\n",
       "      <td>27221.524051</td>\n",
       "      <td>1986-09-23</td>\n",
       "      <td>29</td>\n",
       "      <td>0</td>\n",
       "      <td>0</td>\n",
       "    </tr>\n",
       "    <tr>\n",
       "      <th>2</th>\n",
       "      <td>435962603</td>\n",
       "      <td>Aaron Brown</td>\n",
       "      <td>CAN</td>\n",
       "      <td>male</td>\n",
       "      <td>5/27/92</td>\n",
       "      <td>1.98</td>\n",
       "      <td>79.0</td>\n",
       "      <td>athletics</td>\n",
       "      <td>0</td>\n",
       "      <td>0</td>\n",
       "      <td>1</td>\n",
       "      <td>3.585177e+07</td>\n",
       "      <td>43248.529909</td>\n",
       "      <td>1992-05-27</td>\n",
       "      <td>24</td>\n",
       "      <td>1</td>\n",
       "      <td>1</td>\n",
       "    </tr>\n",
       "    <tr>\n",
       "      <th>3</th>\n",
       "      <td>521041435</td>\n",
       "      <td>Aaron Cook</td>\n",
       "      <td>MDA</td>\n",
       "      <td>male</td>\n",
       "      <td>1/2/91</td>\n",
       "      <td>1.83</td>\n",
       "      <td>80.0</td>\n",
       "      <td>taekwondo</td>\n",
       "      <td>0</td>\n",
       "      <td>0</td>\n",
       "      <td>0</td>\n",
       "      <td>3.554150e+06</td>\n",
       "      <td>1848.061804</td>\n",
       "      <td>1991-01-02</td>\n",
       "      <td>25</td>\n",
       "      <td>0</td>\n",
       "      <td>0</td>\n",
       "    </tr>\n",
       "    <tr>\n",
       "      <th>4</th>\n",
       "      <td>33922579</td>\n",
       "      <td>Aaron Gate</td>\n",
       "      <td>NZL</td>\n",
       "      <td>male</td>\n",
       "      <td>11/26/90</td>\n",
       "      <td>1.81</td>\n",
       "      <td>71.0</td>\n",
       "      <td>cycling</td>\n",
       "      <td>0</td>\n",
       "      <td>0</td>\n",
       "      <td>0</td>\n",
       "      <td>4.595700e+06</td>\n",
       "      <td>37807.967276</td>\n",
       "      <td>1990-11-26</td>\n",
       "      <td>25</td>\n",
       "      <td>0</td>\n",
       "      <td>0</td>\n",
       "    </tr>\n",
       "    <tr>\n",
       "      <th>...</th>\n",
       "      <td>...</td>\n",
       "      <td>...</td>\n",
       "      <td>...</td>\n",
       "      <td>...</td>\n",
       "      <td>...</td>\n",
       "      <td>...</td>\n",
       "      <td>...</td>\n",
       "      <td>...</td>\n",
       "      <td>...</td>\n",
       "      <td>...</td>\n",
       "      <td>...</td>\n",
       "      <td>...</td>\n",
       "      <td>...</td>\n",
       "      <td>...</td>\n",
       "      <td>...</td>\n",
       "      <td>...</td>\n",
       "      <td>...</td>\n",
       "    </tr>\n",
       "    <tr>\n",
       "      <th>10104</th>\n",
       "      <td>801825063</td>\n",
       "      <td>Zurabi Iakobishvili</td>\n",
       "      <td>GEO</td>\n",
       "      <td>male</td>\n",
       "      <td>2/4/92</td>\n",
       "      <td>1.71</td>\n",
       "      <td>68.0</td>\n",
       "      <td>wrestling</td>\n",
       "      <td>0</td>\n",
       "      <td>0</td>\n",
       "      <td>0</td>\n",
       "      <td>3.679000e+06</td>\n",
       "      <td>3795.973308</td>\n",
       "      <td>1992-02-04</td>\n",
       "      <td>24</td>\n",
       "      <td>0</td>\n",
       "      <td>0</td>\n",
       "    </tr>\n",
       "    <tr>\n",
       "      <th>10105</th>\n",
       "      <td>214461847</td>\n",
       "      <td>Zuzana Hejnova</td>\n",
       "      <td>CZE</td>\n",
       "      <td>female</td>\n",
       "      <td>12/19/86</td>\n",
       "      <td>1.73</td>\n",
       "      <td>63.0</td>\n",
       "      <td>athletics</td>\n",
       "      <td>0</td>\n",
       "      <td>0</td>\n",
       "      <td>0</td>\n",
       "      <td>1.055122e+07</td>\n",
       "      <td>17548.338213</td>\n",
       "      <td>1986-12-19</td>\n",
       "      <td>29</td>\n",
       "      <td>0</td>\n",
       "      <td>0</td>\n",
       "    </tr>\n",
       "    <tr>\n",
       "      <th>10106</th>\n",
       "      <td>88361042</td>\n",
       "      <td>di Xiao</td>\n",
       "      <td>CHN</td>\n",
       "      <td>male</td>\n",
       "      <td>5/14/91</td>\n",
       "      <td>1.85</td>\n",
       "      <td>100.0</td>\n",
       "      <td>wrestling</td>\n",
       "      <td>0</td>\n",
       "      <td>0</td>\n",
       "      <td>0</td>\n",
       "      <td>1.371220e+09</td>\n",
       "      <td>8027.683810</td>\n",
       "      <td>1991-05-14</td>\n",
       "      <td>25</td>\n",
       "      <td>0</td>\n",
       "      <td>0</td>\n",
       "    </tr>\n",
       "    <tr>\n",
       "      <th>10107</th>\n",
       "      <td>900065925</td>\n",
       "      <td>le Quoc Toan Tran</td>\n",
       "      <td>VIE</td>\n",
       "      <td>male</td>\n",
       "      <td>4/5/89</td>\n",
       "      <td>1.60</td>\n",
       "      <td>56.0</td>\n",
       "      <td>weightlifting</td>\n",
       "      <td>0</td>\n",
       "      <td>0</td>\n",
       "      <td>0</td>\n",
       "      <td>9.170380e+07</td>\n",
       "      <td>2111.138024</td>\n",
       "      <td>1989-04-05</td>\n",
       "      <td>27</td>\n",
       "      <td>0</td>\n",
       "      <td>0</td>\n",
       "    </tr>\n",
       "    <tr>\n",
       "      <th>10108</th>\n",
       "      <td>711404576</td>\n",
       "      <td>le Roux Hamman</td>\n",
       "      <td>RSA</td>\n",
       "      <td>male</td>\n",
       "      <td>1/6/92</td>\n",
       "      <td>1.85</td>\n",
       "      <td>70.0</td>\n",
       "      <td>athletics</td>\n",
       "      <td>0</td>\n",
       "      <td>0</td>\n",
       "      <td>0</td>\n",
       "      <td>5.495692e+07</td>\n",
       "      <td>5723.973357</td>\n",
       "      <td>1992-01-06</td>\n",
       "      <td>24</td>\n",
       "      <td>0</td>\n",
       "      <td>0</td>\n",
       "    </tr>\n",
       "  </tbody>\n",
       "</table>\n",
       "<p>10109 rows × 17 columns</p>\n",
       "</div>"
      ],
      "text/plain": [
       "              id                 name nationality     sex       dob  height  \\\n",
       "0      736041664       A Jesus Garcia         ESP    male  10/17/69    1.72   \n",
       "1      532037425           A Lam Shin         KOR  female   9/23/86    1.68   \n",
       "2      435962603          Aaron Brown         CAN    male   5/27/92    1.98   \n",
       "3      521041435           Aaron Cook         MDA    male    1/2/91    1.83   \n",
       "4       33922579           Aaron Gate         NZL    male  11/26/90    1.81   \n",
       "...          ...                  ...         ...     ...       ...     ...   \n",
       "10104  801825063  Zurabi Iakobishvili         GEO    male    2/4/92    1.71   \n",
       "10105  214461847       Zuzana Hejnova         CZE  female  12/19/86    1.73   \n",
       "10106   88361042              di Xiao         CHN    male   5/14/91    1.85   \n",
       "10107  900065925    le Quoc Toan Tran         VIE    male    4/5/89    1.60   \n",
       "10108  711404576       le Roux Hamman         RSA    male    1/6/92    1.85   \n",
       "\n",
       "       weight          sport  gold  silver  bronze    population  \\\n",
       "0        64.0      athletics     0       0       0  4.641827e+07   \n",
       "1        56.0        fencing     0       0       0  5.061704e+07   \n",
       "2        79.0      athletics     0       0       1  3.585177e+07   \n",
       "3        80.0      taekwondo     0       0       0  3.554150e+06   \n",
       "4        71.0        cycling     0       0       0  4.595700e+06   \n",
       "...       ...            ...   ...     ...     ...           ...   \n",
       "10104    68.0      wrestling     0       0       0  3.679000e+06   \n",
       "10105    63.0      athletics     0       0       0  1.055122e+07   \n",
       "10106   100.0      wrestling     0       0       0  1.371220e+09   \n",
       "10107    56.0  weightlifting     0       0       0  9.170380e+07   \n",
       "10108    70.0      athletics     0       0       0  5.495692e+07   \n",
       "\n",
       "       gdp_per_capita dob_converted  age  total_medals  placed  \n",
       "0        25831.582305    2069-10-17   46             0       0  \n",
       "1        27221.524051    1986-09-23   29             0       0  \n",
       "2        43248.529909    1992-05-27   24             1       1  \n",
       "3         1848.061804    1991-01-02   25             0       0  \n",
       "4        37807.967276    1990-11-26   25             0       0  \n",
       "...               ...           ...  ...           ...     ...  \n",
       "10104     3795.973308    1992-02-04   24             0       0  \n",
       "10105    17548.338213    1986-12-19   29             0       0  \n",
       "10106     8027.683810    1991-05-14   25             0       0  \n",
       "10107     2111.138024    1989-04-05   27             0       0  \n",
       "10108     5723.973357    1992-01-06   24             0       0  \n",
       "\n",
       "[10109 rows x 17 columns]"
      ]
     },
     "execution_count": 2,
     "metadata": {},
     "output_type": "execute_result"
    }
   ],
   "source": [
    "file = 'ETL/model_dataset_cleaned.csv'\n",
    "df = pd.read_csv(file)\n",
    "df"
   ]
  },
  {
   "cell_type": "code",
   "execution_count": 83,
   "metadata": {},
   "outputs": [],
   "source": [
    "country_medals = df.groupby(df[\"nationality\"]).sum()[\"total_medals\"]"
   ]
  },
  {
   "cell_type": "code",
   "execution_count": 84,
   "metadata": {},
   "outputs": [
    {
     "data": {
      "text/plain": [
       "nationality\n",
       "USA    258\n",
       "GER    159\n",
       "GBR    141\n",
       "CHN    109\n",
       "RUS    107\n",
       "      ... \n",
       "MLT      0\n",
       "MOZ      0\n",
       "MRI      0\n",
       "MYA      0\n",
       "AFG      0\n",
       "Name: total_medals, Length: 165, dtype: int64"
      ]
     },
     "execution_count": 84,
     "metadata": {},
     "output_type": "execute_result"
    }
   ],
   "source": [
    "country_medals.sort_values(ascending=False)"
   ]
  },
  {
   "cell_type": "code",
   "execution_count": 85,
   "metadata": {},
   "outputs": [
    {
     "data": {
      "text/html": [
       "<div>\n",
       "<style scoped>\n",
       "    .dataframe tbody tr th:only-of-type {\n",
       "        vertical-align: middle;\n",
       "    }\n",
       "\n",
       "    .dataframe tbody tr th {\n",
       "        vertical-align: top;\n",
       "    }\n",
       "\n",
       "    .dataframe thead th {\n",
       "        text-align: right;\n",
       "    }\n",
       "</style>\n",
       "<table border=\"1\" class=\"dataframe\">\n",
       "  <thead>\n",
       "    <tr style=\"text-align: right;\">\n",
       "      <th></th>\n",
       "      <th>country</th>\n",
       "      <th>code</th>\n",
       "      <th>population</th>\n",
       "      <th>gdp_per_capita</th>\n",
       "    </tr>\n",
       "  </thead>\n",
       "  <tbody>\n",
       "    <tr>\n",
       "      <th>0</th>\n",
       "      <td>Afghanistan</td>\n",
       "      <td>AFG</td>\n",
       "      <td>32526562.0</td>\n",
       "      <td>594.323081</td>\n",
       "    </tr>\n",
       "    <tr>\n",
       "      <th>1</th>\n",
       "      <td>Albania</td>\n",
       "      <td>ALB</td>\n",
       "      <td>2889167.0</td>\n",
       "      <td>3945.217582</td>\n",
       "    </tr>\n",
       "    <tr>\n",
       "      <th>2</th>\n",
       "      <td>Algeria</td>\n",
       "      <td>ALG</td>\n",
       "      <td>39666519.0</td>\n",
       "      <td>4206.031232</td>\n",
       "    </tr>\n",
       "    <tr>\n",
       "      <th>3</th>\n",
       "      <td>American Samoa*</td>\n",
       "      <td>ASA</td>\n",
       "      <td>55538.0</td>\n",
       "      <td>NaN</td>\n",
       "    </tr>\n",
       "    <tr>\n",
       "      <th>4</th>\n",
       "      <td>Andorra</td>\n",
       "      <td>AND</td>\n",
       "      <td>70473.0</td>\n",
       "      <td>NaN</td>\n",
       "    </tr>\n",
       "    <tr>\n",
       "      <th>...</th>\n",
       "      <td>...</td>\n",
       "      <td>...</td>\n",
       "      <td>...</td>\n",
       "      <td>...</td>\n",
       "    </tr>\n",
       "    <tr>\n",
       "      <th>196</th>\n",
       "      <td>Vietnam</td>\n",
       "      <td>VIE</td>\n",
       "      <td>91703800.0</td>\n",
       "      <td>2111.138024</td>\n",
       "    </tr>\n",
       "    <tr>\n",
       "      <th>197</th>\n",
       "      <td>Virgin Islands*</td>\n",
       "      <td>ISV</td>\n",
       "      <td>103574.0</td>\n",
       "      <td>NaN</td>\n",
       "    </tr>\n",
       "    <tr>\n",
       "      <th>198</th>\n",
       "      <td>Yemen</td>\n",
       "      <td>YEM</td>\n",
       "      <td>26832215.0</td>\n",
       "      <td>1406.291651</td>\n",
       "    </tr>\n",
       "    <tr>\n",
       "      <th>199</th>\n",
       "      <td>Zambia</td>\n",
       "      <td>ZAM</td>\n",
       "      <td>16211767.0</td>\n",
       "      <td>1304.879014</td>\n",
       "    </tr>\n",
       "    <tr>\n",
       "      <th>200</th>\n",
       "      <td>Zimbabwe</td>\n",
       "      <td>ZIM</td>\n",
       "      <td>15602751.0</td>\n",
       "      <td>924.143819</td>\n",
       "    </tr>\n",
       "  </tbody>\n",
       "</table>\n",
       "<p>201 rows × 4 columns</p>\n",
       "</div>"
      ],
      "text/plain": [
       "             country code  population  gdp_per_capita\n",
       "0        Afghanistan  AFG  32526562.0      594.323081\n",
       "1            Albania  ALB   2889167.0     3945.217582\n",
       "2            Algeria  ALG  39666519.0     4206.031232\n",
       "3    American Samoa*  ASA     55538.0             NaN\n",
       "4            Andorra  AND     70473.0             NaN\n",
       "..               ...  ...         ...             ...\n",
       "196          Vietnam  VIE  91703800.0     2111.138024\n",
       "197  Virgin Islands*  ISV    103574.0             NaN\n",
       "198            Yemen  YEM  26832215.0     1406.291651\n",
       "199           Zambia  ZAM  16211767.0     1304.879014\n",
       "200         Zimbabwe  ZIM  15602751.0      924.143819\n",
       "\n",
       "[201 rows x 4 columns]"
      ]
     },
     "execution_count": 85,
     "metadata": {},
     "output_type": "execute_result"
    }
   ],
   "source": [
    "file = 'countries.csv'\n",
    "countries_df = pd.read_csv(file)\n",
    "countries_df"
   ]
  },
  {
   "cell_type": "code",
   "execution_count": 16,
   "metadata": {},
   "outputs": [],
   "source": [
    "countries_df.dropna(inplace=True)"
   ]
  },
  {
   "cell_type": "code",
   "execution_count": 86,
   "metadata": {},
   "outputs": [],
   "source": [
    "countries_df = countries_df.rename(columns={'code': 'nationality'})\n",
    "combined_df = pd.merge(countries_df,country_medals, on=\"nationality\")"
   ]
  },
  {
   "cell_type": "code",
   "execution_count": 87,
   "metadata": {},
   "outputs": [
    {
     "data": {
      "text/html": [
       "<div>\n",
       "<style scoped>\n",
       "    .dataframe tbody tr th:only-of-type {\n",
       "        vertical-align: middle;\n",
       "    }\n",
       "\n",
       "    .dataframe tbody tr th {\n",
       "        vertical-align: top;\n",
       "    }\n",
       "\n",
       "    .dataframe thead th {\n",
       "        text-align: right;\n",
       "    }\n",
       "</style>\n",
       "<table border=\"1\" class=\"dataframe\">\n",
       "  <thead>\n",
       "    <tr style=\"text-align: right;\">\n",
       "      <th></th>\n",
       "      <th>country</th>\n",
       "      <th>nationality</th>\n",
       "      <th>population</th>\n",
       "      <th>gdp_per_capita</th>\n",
       "      <th>total_medals</th>\n",
       "    </tr>\n",
       "  </thead>\n",
       "  <tbody>\n",
       "    <tr>\n",
       "      <th>157</th>\n",
       "      <td>United States</td>\n",
       "      <td>USA</td>\n",
       "      <td>3.214188e+08</td>\n",
       "      <td>56115.718426</td>\n",
       "      <td>258</td>\n",
       "    </tr>\n",
       "    <tr>\n",
       "      <th>59</th>\n",
       "      <td>Germany</td>\n",
       "      <td>GER</td>\n",
       "      <td>8.141314e+07</td>\n",
       "      <td>41313.313995</td>\n",
       "      <td>159</td>\n",
       "    </tr>\n",
       "    <tr>\n",
       "      <th>156</th>\n",
       "      <td>United Kingdom</td>\n",
       "      <td>GBR</td>\n",
       "      <td>6.513823e+07</td>\n",
       "      <td>43875.969614</td>\n",
       "      <td>141</td>\n",
       "    </tr>\n",
       "    <tr>\n",
       "      <th>34</th>\n",
       "      <td>China</td>\n",
       "      <td>CHN</td>\n",
       "      <td>1.371220e+09</td>\n",
       "      <td>8027.683810</td>\n",
       "      <td>109</td>\n",
       "    </tr>\n",
       "    <tr>\n",
       "      <th>124</th>\n",
       "      <td>Russia</td>\n",
       "      <td>RUS</td>\n",
       "      <td>1.440968e+08</td>\n",
       "      <td>9092.580536</td>\n",
       "      <td>107</td>\n",
       "    </tr>\n",
       "    <tr>\n",
       "      <th>...</th>\n",
       "      <td>...</td>\n",
       "      <td>...</td>\n",
       "      <td>...</td>\n",
       "      <td>...</td>\n",
       "      <td>...</td>\n",
       "    </tr>\n",
       "    <tr>\n",
       "      <th>64</th>\n",
       "      <td>Guinea</td>\n",
       "      <td>GUI</td>\n",
       "      <td>1.260859e+07</td>\n",
       "      <td>531.320595</td>\n",
       "      <td>0</td>\n",
       "    </tr>\n",
       "    <tr>\n",
       "      <th>63</th>\n",
       "      <td>Guatemala</td>\n",
       "      <td>GUA</td>\n",
       "      <td>1.634290e+07</td>\n",
       "      <td>3903.478856</td>\n",
       "      <td>0</td>\n",
       "    </tr>\n",
       "    <tr>\n",
       "      <th>62</th>\n",
       "      <td>Grenada</td>\n",
       "      <td>GRN</td>\n",
       "      <td>1.068250e+05</td>\n",
       "      <td>9212.020352</td>\n",
       "      <td>0</td>\n",
       "    </tr>\n",
       "    <tr>\n",
       "      <th>60</th>\n",
       "      <td>Ghana</td>\n",
       "      <td>GHA</td>\n",
       "      <td>2.740989e+07</td>\n",
       "      <td>1369.701122</td>\n",
       "      <td>0</td>\n",
       "    </tr>\n",
       "    <tr>\n",
       "      <th>164</th>\n",
       "      <td>Zimbabwe</td>\n",
       "      <td>ZIM</td>\n",
       "      <td>1.560275e+07</td>\n",
       "      <td>924.143819</td>\n",
       "      <td>0</td>\n",
       "    </tr>\n",
       "  </tbody>\n",
       "</table>\n",
       "<p>165 rows × 5 columns</p>\n",
       "</div>"
      ],
      "text/plain": [
       "            country nationality    population  gdp_per_capita  total_medals\n",
       "157   United States         USA  3.214188e+08    56115.718426           258\n",
       "59          Germany         GER  8.141314e+07    41313.313995           159\n",
       "156  United Kingdom         GBR  6.513823e+07    43875.969614           141\n",
       "34            China         CHN  1.371220e+09     8027.683810           109\n",
       "124          Russia         RUS  1.440968e+08     9092.580536           107\n",
       "..              ...         ...           ...             ...           ...\n",
       "64           Guinea         GUI  1.260859e+07      531.320595             0\n",
       "63        Guatemala         GUA  1.634290e+07     3903.478856             0\n",
       "62          Grenada         GRN  1.068250e+05     9212.020352             0\n",
       "60            Ghana         GHA  2.740989e+07     1369.701122             0\n",
       "164        Zimbabwe         ZIM  1.560275e+07      924.143819             0\n",
       "\n",
       "[165 rows x 5 columns]"
      ]
     },
     "execution_count": 87,
     "metadata": {},
     "output_type": "execute_result"
    }
   ],
   "source": [
    "combined_df.sort_values(\"total_medals\",ascending=False)"
   ]
  },
  {
   "cell_type": "code",
   "execution_count": 42,
   "metadata": {},
   "outputs": [
    {
     "data": {
      "text/plain": [
       "Text(0, 0.5, 'Total Medals')"
      ]
     },
     "execution_count": 42,
     "metadata": {},
     "output_type": "execute_result"
    },
    {
     "data": {
      "image/png": "[encoded data removed]",
      "text/plain": [
       "<Figure size 432x288 with 1 Axes>"
      ]
     },
     "metadata": {
      "needs_background": "light"
     },
     "output_type": "display_data"
    }
   ],
   "source": [
    "#scatterplot of gdp per capita and total medals to see it's relationship \n",
    "x_axis=combined_df[\"gdp_per_capita\"]\n",
    "y_axis=combined_df[\"total_medals\"]\n",
    "plt.plot(x_axis, y_axis, 'o')\n",
    "\n",
    "plt.title(\"Rio 2016 Medals by Country GDP per Capita\")\n",
    "plt.xlabel(\"GDP per Capita\")\n",
    "plt.ylabel(\"Total Medals\")"
   ]
  },
  {
   "cell_type": "code",
   "execution_count": 29,
   "metadata": {},
   "outputs": [
    {
     "data": {
      "text/html": [
       "<div>\n",
       "<style scoped>\n",
       "    .dataframe tbody tr th:only-of-type {\n",
       "        vertical-align: middle;\n",
       "    }\n",
       "\n",
       "    .dataframe tbody tr th {\n",
       "        vertical-align: top;\n",
       "    }\n",
       "\n",
       "    .dataframe thead th {\n",
       "        text-align: right;\n",
       "    }\n",
       "</style>\n",
       "<table border=\"1\" class=\"dataframe\">\n",
       "  <thead>\n",
       "    <tr style=\"text-align: right;\">\n",
       "      <th></th>\n",
       "      <th>country</th>\n",
       "      <th>nationality</th>\n",
       "      <th>population</th>\n",
       "      <th>gdp_per_capita</th>\n",
       "      <th>total_medals</th>\n",
       "    </tr>\n",
       "  </thead>\n",
       "  <tbody>\n",
       "    <tr>\n",
       "      <th>90</th>\n",
       "      <td>Luxembourg</td>\n",
       "      <td>LUX</td>\n",
       "      <td>569676.0</td>\n",
       "      <td>101449.968168</td>\n",
       "      <td>0</td>\n",
       "    </tr>\n",
       "    <tr>\n",
       "      <th>145</th>\n",
       "      <td>Switzerland</td>\n",
       "      <td>SUI</td>\n",
       "      <td>8286976.0</td>\n",
       "      <td>80945.079219</td>\n",
       "      <td>11</td>\n",
       "    </tr>\n",
       "    <tr>\n",
       "      <th>113</th>\n",
       "      <td>Norway</td>\n",
       "      <td>NOR</td>\n",
       "      <td>5195921.0</td>\n",
       "      <td>74400.369777</td>\n",
       "      <td>0</td>\n",
       "    </tr>\n",
       "    <tr>\n",
       "      <th>123</th>\n",
       "      <td>Qatar</td>\n",
       "      <td>QAT</td>\n",
       "      <td>2235355.0</td>\n",
       "      <td>73653.394435</td>\n",
       "      <td>1</td>\n",
       "    </tr>\n",
       "    <tr>\n",
       "      <th>75</th>\n",
       "      <td>Ireland</td>\n",
       "      <td>IRL</td>\n",
       "      <td>4640703.0</td>\n",
       "      <td>61133.672427</td>\n",
       "      <td>3</td>\n",
       "    </tr>\n",
       "    <tr>\n",
       "      <th>...</th>\n",
       "      <td>...</td>\n",
       "      <td>...</td>\n",
       "      <td>...</td>\n",
       "      <td>...</td>\n",
       "      <td>...</td>\n",
       "    </tr>\n",
       "    <tr>\n",
       "      <th>92</th>\n",
       "      <td>Madagascar</td>\n",
       "      <td>MAD</td>\n",
       "      <td>24235390.0</td>\n",
       "      <td>401.836006</td>\n",
       "      <td>0</td>\n",
       "    </tr>\n",
       "    <tr>\n",
       "      <th>93</th>\n",
       "      <td>Malawi</td>\n",
       "      <td>MAW</td>\n",
       "      <td>17215232.0</td>\n",
       "      <td>371.985748</td>\n",
       "      <td>0</td>\n",
       "    </tr>\n",
       "    <tr>\n",
       "      <th>111</th>\n",
       "      <td>Niger</td>\n",
       "      <td>NIG</td>\n",
       "      <td>19899120.0</td>\n",
       "      <td>358.958152</td>\n",
       "      <td>1</td>\n",
       "    </tr>\n",
       "    <tr>\n",
       "      <th>31</th>\n",
       "      <td>Central African Republic</td>\n",
       "      <td>CAF</td>\n",
       "      <td>4900274.0</td>\n",
       "      <td>323.201674</td>\n",
       "      <td>0</td>\n",
       "    </tr>\n",
       "    <tr>\n",
       "      <th>26</th>\n",
       "      <td>Burundi</td>\n",
       "      <td>BDI</td>\n",
       "      <td>11178921.0</td>\n",
       "      <td>277.068309</td>\n",
       "      <td>1</td>\n",
       "    </tr>\n",
       "  </tbody>\n",
       "</table>\n",
       "<p>165 rows × 5 columns</p>\n",
       "</div>"
      ],
      "text/plain": [
       "                      country nationality  population  gdp_per_capita  \\\n",
       "90                 Luxembourg         LUX    569676.0   101449.968168   \n",
       "145               Switzerland         SUI   8286976.0    80945.079219   \n",
       "113                    Norway         NOR   5195921.0    74400.369777   \n",
       "123                     Qatar         QAT   2235355.0    73653.394435   \n",
       "75                    Ireland         IRL   4640703.0    61133.672427   \n",
       "..                        ...         ...         ...             ...   \n",
       "92                 Madagascar         MAD  24235390.0      401.836006   \n",
       "93                     Malawi         MAW  17215232.0      371.985748   \n",
       "111                     Niger         NIG  19899120.0      358.958152   \n",
       "31   Central African Republic         CAF   4900274.0      323.201674   \n",
       "26                    Burundi         BDI  11178921.0      277.068309   \n",
       "\n",
       "     total_medals  \n",
       "90              0  \n",
       "145            11  \n",
       "113             0  \n",
       "123             1  \n",
       "75              3  \n",
       "..            ...  \n",
       "92              0  \n",
       "93              0  \n",
       "111             1  \n",
       "31              0  \n",
       "26              1  \n",
       "\n",
       "[165 rows x 5 columns]"
      ]
     },
     "execution_count": 29,
     "metadata": {},
     "output_type": "execute_result"
    }
   ],
   "source": [
    "#looks like there are a couple of outliers to the far right, what countries are those? \n",
    "combined_df.sort_values(\"gdp_per_capita\",ascending=False)"
   ]
  },
  {
   "cell_type": "code",
   "execution_count": 41,
   "metadata": {},
   "outputs": [
    {
     "data": {
      "text/plain": [
       "(0.3715505387264822, 8.950229806165898e-07)"
      ]
     },
     "execution_count": 41,
     "metadata": {},
     "output_type": "execute_result"
    }
   ],
   "source": [
    "#calculating pearson correlation coefficient on gdp per capita and total medals \n",
    "import scipy as sp\n",
    "from scipy import stats\n",
    "pearson = sp.stats.pearsonr(combined_df[\"gdp_per_capita\"], combined_df[\"total_medals\"])\n",
    "pearson "
   ]
  },
  {
   "cell_type": "code",
   "execution_count": 100,
   "metadata": {},
   "outputs": [],
   "source": [
    "#funnction to return a summary country medal count dataframe for a particular sport category \n",
    "def filterbysport(sport):\n",
    "    sport_df = df[df[\"sport\"] == sport]\n",
    "    medal_counts = sport_df.groupby(df[\"nationality\"]).sum()[\"total_medals\"]\n",
    "    summary_df = pd.merge(countries_df,medal_counts, on=\"nationality\")\n",
    "    \n",
    "    return summary_df"
   ]
  },
  {
   "cell_type": "code",
   "execution_count": 101,
   "metadata": {},
   "outputs": [
    {
     "data": {
      "text/html": [
       "<div>\n",
       "<style scoped>\n",
       "    .dataframe tbody tr th:only-of-type {\n",
       "        vertical-align: middle;\n",
       "    }\n",
       "\n",
       "    .dataframe tbody tr th {\n",
       "        vertical-align: top;\n",
       "    }\n",
       "\n",
       "    .dataframe thead th {\n",
       "        text-align: right;\n",
       "    }\n",
       "</style>\n",
       "<table border=\"1\" class=\"dataframe\">\n",
       "  <thead>\n",
       "    <tr style=\"text-align: right;\">\n",
       "      <th></th>\n",
       "      <th>country</th>\n",
       "      <th>nationality</th>\n",
       "      <th>population</th>\n",
       "      <th>gdp_per_capita</th>\n",
       "      <th>total_medals</th>\n",
       "    </tr>\n",
       "  </thead>\n",
       "  <tbody>\n",
       "    <tr>\n",
       "      <th>63</th>\n",
       "      <td>United Kingdom</td>\n",
       "      <td>GBR</td>\n",
       "      <td>65138232.0</td>\n",
       "      <td>43875.969614</td>\n",
       "      <td>20</td>\n",
       "    </tr>\n",
       "    <tr>\n",
       "      <th>64</th>\n",
       "      <td>United States</td>\n",
       "      <td>USA</td>\n",
       "      <td>321418820.0</td>\n",
       "      <td>56115.718426</td>\n",
       "      <td>8</td>\n",
       "    </tr>\n",
       "    <tr>\n",
       "      <th>18</th>\n",
       "      <td>Denmark</td>\n",
       "      <td>DEN</td>\n",
       "      <td>5676002.0</td>\n",
       "      <td>51989.293471</td>\n",
       "      <td>7</td>\n",
       "    </tr>\n",
       "    <tr>\n",
       "      <th>2</th>\n",
       "      <td>Australia</td>\n",
       "      <td>AUS</td>\n",
       "      <td>23781169.0</td>\n",
       "      <td>56310.962993</td>\n",
       "      <td>6</td>\n",
       "    </tr>\n",
       "    <tr>\n",
       "      <th>46</th>\n",
       "      <td>Netherlands</td>\n",
       "      <td>NED</td>\n",
       "      <td>16936520.0</td>\n",
       "      <td>44299.768085</td>\n",
       "      <td>6</td>\n",
       "    </tr>\n",
       "    <tr>\n",
       "      <th>...</th>\n",
       "      <td>...</td>\n",
       "      <td>...</td>\n",
       "      <td>...</td>\n",
       "      <td>...</td>\n",
       "      <td>...</td>\n",
       "    </tr>\n",
       "    <tr>\n",
       "      <th>31</th>\n",
       "      <td>Indonesia</td>\n",
       "      <td>INA</td>\n",
       "      <td>257563815.0</td>\n",
       "      <td>3346.487039</td>\n",
       "      <td>0</td>\n",
       "    </tr>\n",
       "    <tr>\n",
       "      <th>1</th>\n",
       "      <td>Argentina</td>\n",
       "      <td>ARG</td>\n",
       "      <td>43416755.0</td>\n",
       "      <td>13431.878340</td>\n",
       "      <td>0</td>\n",
       "    </tr>\n",
       "    <tr>\n",
       "      <th>33</th>\n",
       "      <td>Israel</td>\n",
       "      <td>ISR</td>\n",
       "      <td>8380400.0</td>\n",
       "      <td>35728.093495</td>\n",
       "      <td>0</td>\n",
       "    </tr>\n",
       "    <tr>\n",
       "      <th>35</th>\n",
       "      <td>Japan</td>\n",
       "      <td>JPN</td>\n",
       "      <td>126958472.0</td>\n",
       "      <td>32477.215145</td>\n",
       "      <td>0</td>\n",
       "    </tr>\n",
       "    <tr>\n",
       "      <th>32</th>\n",
       "      <td>Ireland</td>\n",
       "      <td>IRL</td>\n",
       "      <td>4640703.0</td>\n",
       "      <td>61133.672427</td>\n",
       "      <td>0</td>\n",
       "    </tr>\n",
       "  </tbody>\n",
       "</table>\n",
       "<p>65 rows × 5 columns</p>\n",
       "</div>"
      ],
      "text/plain": [
       "           country nationality   population  gdp_per_capita  total_medals\n",
       "63  United Kingdom         GBR   65138232.0    43875.969614            20\n",
       "64   United States         USA  321418820.0    56115.718426             8\n",
       "18         Denmark         DEN    5676002.0    51989.293471             7\n",
       "2        Australia         AUS   23781169.0    56310.962993             6\n",
       "46     Netherlands         NED   16936520.0    44299.768085             6\n",
       "..             ...         ...          ...             ...           ...\n",
       "31       Indonesia         INA  257563815.0     3346.487039             0\n",
       "1        Argentina         ARG   43416755.0    13431.878340             0\n",
       "33          Israel         ISR    8380400.0    35728.093495             0\n",
       "35           Japan         JPN  126958472.0    32477.215145             0\n",
       "32         Ireland         IRL    4640703.0    61133.672427             0\n",
       "\n",
       "[65 rows x 5 columns]"
      ]
     },
     "execution_count": 101,
     "metadata": {},
     "output_type": "execute_result"
    }
   ],
   "source": [
    "#country performance for cycling \n",
    "cycling_df = filterbysport(\"cycling\")\n",
    "cycling_df.sort_values(\"total_medals\",ascending=False)"
   ]
  },
  {
   "cell_type": "code",
   "execution_count": 90,
   "metadata": {},
   "outputs": [],
   "source": [
    "#defining a function to show GDP per capita and medal counts for a given dataframe \n",
    "def GDPscatterplot(df,sport):\n",
    "    x_axis=df[\"gdp_per_capita\"]\n",
    "    y_axis=df[\"total_medals\"]\n",
    "    \n",
    "    plt.title(f\"Rio 2016 {sport} Medals by Country GDP per Capita\")\n",
    "    plt.xlabel(\"GDP per Capita\")\n",
    "    plt.ylabel(\"Total Medals\")\n",
    "    \n",
    "    return plt.plot(x_axis, y_axis, 'o')"
   ]
  },
  {
   "cell_type": "code",
   "execution_count": 92,
   "metadata": {},
   "outputs": [
    {
     "data": {
      "text/plain": [
       "[<matplotlib.lines.Line2D at 0x22afc713ac8>]"
      ]
     },
     "execution_count": 92,
     "metadata": {},
     "output_type": "execute_result"
    },
    {
     "data": {
      "image/png": "[encoded data removed]",
      "text/plain": [
       "<Figure size 432x288 with 1 Axes>"
      ]
     },
     "metadata": {
      "needs_background": "light"
     },
     "output_type": "display_data"
    }
   ],
   "source": [
    "GDPscatterplot(cycling_df,\"Cycling\")"
   ]
  },
  {
   "cell_type": "code",
   "execution_count": 125,
   "metadata": {},
   "outputs": [],
   "source": [
    "#creates a summary view of the pearson correlation and the scatter plot \n",
    "def sportsummary(sport):\n",
    "    sport_summary_df=filterbysport(sport)\n",
    "    \n",
    "    s_pearson = sp.stats.pearsonr(sport_summary_df[\"gdp_per_capita\"], sport_summary_df[\"total_medals\"])\n",
    "    \n",
    "    return GDPscatterplot(sport_summary_df,sport), sport_summary_df.sort_values(\"total_medals\",ascending=False).head(),print(f\"Pearson correlation between GDP per capita and Olympic medals  for {sport}: {s_pearson}\")"
   ]
  },
  {
   "cell_type": "code",
   "execution_count": 126,
   "metadata": {},
   "outputs": [
    {
     "name": "stdout",
     "output_type": "stream",
     "text": [
      "Pearson correlation between GDP per capita and Olympic medals  for athletics: (0.21267276747902714, 0.008748921898022805)\n"
     ]
    },
    {
     "data": {
      "text/plain": [
       "([<matplotlib.lines.Line2D at 0x22afca72c48>],\n",
       "             country nationality   population  gdp_per_capita  total_medals\n",
       " 144   United States         USA  321418820.0    56115.718426            45\n",
       " 73          Jamaica         JAM    2725941.0     5232.024583            28\n",
       " 143  United Kingdom         GBR   65138232.0    43875.969614            14\n",
       " 77            Kenya         KEN   46050302.0     1376.712829            12\n",
       " 27           Canada         CAN   35851774.0    43248.529909            10,\n",
       " None)"
      ]
     },
     "execution_count": 126,
     "metadata": {},
     "output_type": "execute_result"
    },
    {
     "data": {
      "image/png": "[encoded data removed]",
      "text/plain": [
       "<Figure size 432x288 with 1 Axes>"
      ]
     },
     "metadata": {
      "needs_background": "light"
     },
     "output_type": "display_data"
    }
   ],
   "source": [
    "#Athletics Summary Table \n",
    "sportsummary(\"athletics\")"
   ]
  },
  {
   "cell_type": "code",
   "execution_count": 127,
   "metadata": {},
   "outputs": [
    {
     "name": "stdout",
     "output_type": "stream",
     "text": [
      "Pearson correlation between GDP per capita and Olympic medals  for taekwondo: (0.06904070575387916, 0.6232669136794392)\n"
     ]
    },
    {
     "data": {
      "text/plain": [
       "([<matplotlib.lines.Line2D at 0x22afde3a208>],\n",
       "            country nationality    population  gdp_per_capita  total_medals\n",
       " 27    Korea, South         KOR  5.061704e+07    27221.524051             5\n",
       " 50  United Kingdom         GBR  6.513823e+07    43875.969614             3\n",
       " 1       Azerbaijan         AZE  9.651349e+06     5496.344640             3\n",
       " 10           China         CHN  1.371220e+09     8027.683810             2\n",
       " 44           Spain         ESP  4.641827e+07    25831.582305             2,\n",
       " None)"
      ]
     },
     "execution_count": 127,
     "metadata": {},
     "output_type": "execute_result"
    },
    {
     "data": {
      "image/png": "[encoded data removed]",
      "text/plain": [
       "<Figure size 432x288 with 1 Axes>"
      ]
     },
     "metadata": {
      "needs_background": "light"
     },
     "output_type": "display_data"
    }
   ],
   "source": [
    "#What About Taekwondo?\n",
    "sportsummary(\"taekwondo\")"
   ]
  },
  {
   "cell_type": "code",
   "execution_count": 132,
   "metadata": {},
   "outputs": [
    {
     "name": "stdout",
     "output_type": "stream",
     "text": [
      "Pearson correlation between GDP per capita and Olympic medals  for table tennis: (-0.0027634079643967645, 0.9856261902692557)\n"
     ]
    },
    {
     "data": {
      "text/plain": [
       "([<matplotlib.lines.Line2D at 0x22afdf30f88>],\n",
       "       country nationality    population  gdp_per_capita  total_medals\n",
       " 5       China         CHN  1.371220e+09     8027.683810            10\n",
       " 19      Japan         JPN  1.269585e+08    32477.215145             7\n",
       " 14    Germany         GER  8.141314e+07    41313.313995             6\n",
       " 0   Australia         AUS  2.378117e+07    56310.962993             0\n",
       " 33  Singapore         SIN  5.535002e+06    52888.744672             0,\n",
       " None)"
      ]
     },
     "execution_count": 132,
     "metadata": {},
     "output_type": "execute_result"
    },
    {
     "data": {
      "image/png": "[encoded data removed]",
      "text/plain": [
       "<Figure size 432x288 with 1 Axes>"
      ]
     },
     "metadata": {
      "needs_background": "light"
     },
     "output_type": "display_data"
    }
   ],
   "source": [
    "#table tennis\n",
    "sportsummary(\"table tennis\")"
   ]
  },
  {
   "cell_type": "code",
   "execution_count": 133,
   "metadata": {},
   "outputs": [
    {
     "name": "stdout",
     "output_type": "stream",
     "text": [
      "Pearson correlation between GDP per capita and Olympic medals  for rowing: (0.4755440871065394, 0.00016162581880347864)\n"
     ]
    },
    {
     "data": {
      "text/plain": [
       "([<matplotlib.lines.Line2D at 0x22afdf7af08>],\n",
       "            country nationality   population  gdp_per_capita  total_medals\n",
       " 51  United Kingdom         GBR   65138232.0    43875.969614            26\n",
       " 21         Germany         GER   81413145.0    41313.313995            17\n",
       " 35     Netherlands         NED   16936520.0    44299.768085            15\n",
       " 52   United States         USA  321418820.0    56115.718426            10\n",
       " 3        Australia         AUS   23781169.0    56310.962993             9,\n",
       " None)"
      ]
     },
     "execution_count": 133,
     "metadata": {},
     "output_type": "execute_result"
    },
    {
     "data": {
      "image/png": "[encoded data removed]",
      "text/plain": [
       "<Figure size 432x288 with 1 Axes>"
      ]
     },
     "metadata": {
      "needs_background": "light"
     },
     "output_type": "display_data"
    }
   ],
   "source": [
    "#table tennis\n",
    "sportsummary(\"rowing\")"
   ]
  },
  {
   "cell_type": "code",
   "execution_count": null,
   "metadata": {},
   "outputs": [],
   "source": []
  }
 ],
 "metadata": {
  "kernelspec": {
   "display_name": "PythonData",
   "language": "python",
   "name": "pythondata"
  },
  "language_info": {
   "codemirror_mode": {
    "name": "ipython",
    "version": 3
   },
   "file_extension": ".py",
   "mimetype": "text/x-python",
   "name": "python",
   "nbconvert_exporter": "python",
   "pygments_lexer": "ipython3",
   "version": "3.7.9"
  }
 },
 "nbformat": 4,
 "nbformat_minor": 4
}
