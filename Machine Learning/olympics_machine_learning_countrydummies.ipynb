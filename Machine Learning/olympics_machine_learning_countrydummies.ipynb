{
 "cells": [
  {
   "cell_type": "code",
   "execution_count": 1,
   "metadata": {},
   "outputs": [],
   "source": [
    "import numpy as np\n",
    "import pandas as pd\n",
    "from pathlib import Path\n",
    "from collections import Counter"
   ]
  },
  {
   "cell_type": "markdown",
   "metadata": {},
   "source": [
    "# Importing the dataset and deriving the dependant and independant variables"
   ]
  },
  {
   "cell_type": "code",
   "execution_count": 2,
   "metadata": {},
   "outputs": [
    {
     "data": {
      "text/html": [
       "<div>\n",
       "<style scoped>\n",
       "    .dataframe tbody tr th:only-of-type {\n",
       "        vertical-align: middle;\n",
       "    }\n",
       "\n",
       "    .dataframe tbody tr th {\n",
       "        vertical-align: top;\n",
       "    }\n",
       "\n",
       "    .dataframe thead th {\n",
       "        text-align: right;\n",
       "    }\n",
       "</style>\n",
       "<table border=\"1\" class=\"dataframe\">\n",
       "  <thead>\n",
       "    <tr style=\"text-align: right;\">\n",
       "      <th></th>\n",
       "      <th>id</th>\n",
       "      <th>name</th>\n",
       "      <th>nationality</th>\n",
       "      <th>sex</th>\n",
       "      <th>dob</th>\n",
       "      <th>height</th>\n",
       "      <th>weight</th>\n",
       "      <th>sport</th>\n",
       "      <th>gold</th>\n",
       "      <th>silver</th>\n",
       "      <th>bronze</th>\n",
       "      <th>population</th>\n",
       "      <th>gdp_per_capita</th>\n",
       "      <th>dob_converted</th>\n",
       "      <th>age</th>\n",
       "      <th>total_medals</th>\n",
       "      <th>placed</th>\n",
       "    </tr>\n",
       "  </thead>\n",
       "  <tbody>\n",
       "    <tr>\n",
       "      <th>0</th>\n",
       "      <td>736041664</td>\n",
       "      <td>A Jesus Garcia</td>\n",
       "      <td>ESP</td>\n",
       "      <td>male</td>\n",
       "      <td>10/17/69</td>\n",
       "      <td>1.72</td>\n",
       "      <td>64.0</td>\n",
       "      <td>athletics</td>\n",
       "      <td>0</td>\n",
       "      <td>0</td>\n",
       "      <td>0</td>\n",
       "      <td>4.641827e+07</td>\n",
       "      <td>25831.582305</td>\n",
       "      <td>2069-10-17</td>\n",
       "      <td>46</td>\n",
       "      <td>0</td>\n",
       "      <td>0</td>\n",
       "    </tr>\n",
       "    <tr>\n",
       "      <th>1</th>\n",
       "      <td>532037425</td>\n",
       "      <td>A Lam Shin</td>\n",
       "      <td>KOR</td>\n",
       "      <td>female</td>\n",
       "      <td>9/23/86</td>\n",
       "      <td>1.68</td>\n",
       "      <td>56.0</td>\n",
       "      <td>fencing</td>\n",
       "      <td>0</td>\n",
       "      <td>0</td>\n",
       "      <td>0</td>\n",
       "      <td>5.061704e+07</td>\n",
       "      <td>27221.524051</td>\n",
       "      <td>1986-09-23</td>\n",
       "      <td>29</td>\n",
       "      <td>0</td>\n",
       "      <td>0</td>\n",
       "    </tr>\n",
       "    <tr>\n",
       "      <th>2</th>\n",
       "      <td>435962603</td>\n",
       "      <td>Aaron Brown</td>\n",
       "      <td>CAN</td>\n",
       "      <td>male</td>\n",
       "      <td>5/27/92</td>\n",
       "      <td>1.98</td>\n",
       "      <td>79.0</td>\n",
       "      <td>athletics</td>\n",
       "      <td>0</td>\n",
       "      <td>0</td>\n",
       "      <td>1</td>\n",
       "      <td>3.585177e+07</td>\n",
       "      <td>43248.529909</td>\n",
       "      <td>1992-05-27</td>\n",
       "      <td>24</td>\n",
       "      <td>1</td>\n",
       "      <td>1</td>\n",
       "    </tr>\n",
       "    <tr>\n",
       "      <th>3</th>\n",
       "      <td>521041435</td>\n",
       "      <td>Aaron Cook</td>\n",
       "      <td>MDA</td>\n",
       "      <td>male</td>\n",
       "      <td>1/2/91</td>\n",
       "      <td>1.83</td>\n",
       "      <td>80.0</td>\n",
       "      <td>taekwondo</td>\n",
       "      <td>0</td>\n",
       "      <td>0</td>\n",
       "      <td>0</td>\n",
       "      <td>3.554150e+06</td>\n",
       "      <td>1848.061804</td>\n",
       "      <td>1991-01-02</td>\n",
       "      <td>25</td>\n",
       "      <td>0</td>\n",
       "      <td>0</td>\n",
       "    </tr>\n",
       "    <tr>\n",
       "      <th>4</th>\n",
       "      <td>33922579</td>\n",
       "      <td>Aaron Gate</td>\n",
       "      <td>NZL</td>\n",
       "      <td>male</td>\n",
       "      <td>11/26/90</td>\n",
       "      <td>1.81</td>\n",
       "      <td>71.0</td>\n",
       "      <td>cycling</td>\n",
       "      <td>0</td>\n",
       "      <td>0</td>\n",
       "      <td>0</td>\n",
       "      <td>4.595700e+06</td>\n",
       "      <td>37807.967276</td>\n",
       "      <td>1990-11-26</td>\n",
       "      <td>25</td>\n",
       "      <td>0</td>\n",
       "      <td>0</td>\n",
       "    </tr>\n",
       "    <tr>\n",
       "      <th>...</th>\n",
       "      <td>...</td>\n",
       "      <td>...</td>\n",
       "      <td>...</td>\n",
       "      <td>...</td>\n",
       "      <td>...</td>\n",
       "      <td>...</td>\n",
       "      <td>...</td>\n",
       "      <td>...</td>\n",
       "      <td>...</td>\n",
       "      <td>...</td>\n",
       "      <td>...</td>\n",
       "      <td>...</td>\n",
       "      <td>...</td>\n",
       "      <td>...</td>\n",
       "      <td>...</td>\n",
       "      <td>...</td>\n",
       "      <td>...</td>\n",
       "    </tr>\n",
       "    <tr>\n",
       "      <th>10104</th>\n",
       "      <td>801825063</td>\n",
       "      <td>Zurabi Iakobishvili</td>\n",
       "      <td>GEO</td>\n",
       "      <td>male</td>\n",
       "      <td>2/4/92</td>\n",
       "      <td>1.71</td>\n",
       "      <td>68.0</td>\n",
       "      <td>wrestling</td>\n",
       "      <td>0</td>\n",
       "      <td>0</td>\n",
       "      <td>0</td>\n",
       "      <td>3.679000e+06</td>\n",
       "      <td>3795.973308</td>\n",
       "      <td>1992-02-04</td>\n",
       "      <td>24</td>\n",
       "      <td>0</td>\n",
       "      <td>0</td>\n",
       "    </tr>\n",
       "    <tr>\n",
       "      <th>10105</th>\n",
       "      <td>214461847</td>\n",
       "      <td>Zuzana Hejnova</td>\n",
       "      <td>CZE</td>\n",
       "      <td>female</td>\n",
       "      <td>12/19/86</td>\n",
       "      <td>1.73</td>\n",
       "      <td>63.0</td>\n",
       "      <td>athletics</td>\n",
       "      <td>0</td>\n",
       "      <td>0</td>\n",
       "      <td>0</td>\n",
       "      <td>1.055122e+07</td>\n",
       "      <td>17548.338213</td>\n",
       "      <td>1986-12-19</td>\n",
       "      <td>29</td>\n",
       "      <td>0</td>\n",
       "      <td>0</td>\n",
       "    </tr>\n",
       "    <tr>\n",
       "      <th>10106</th>\n",
       "      <td>88361042</td>\n",
       "      <td>di Xiao</td>\n",
       "      <td>CHN</td>\n",
       "      <td>male</td>\n",
       "      <td>5/14/91</td>\n",
       "      <td>1.85</td>\n",
       "      <td>100.0</td>\n",
       "      <td>wrestling</td>\n",
       "      <td>0</td>\n",
       "      <td>0</td>\n",
       "      <td>0</td>\n",
       "      <td>1.371220e+09</td>\n",
       "      <td>8027.683810</td>\n",
       "      <td>1991-05-14</td>\n",
       "      <td>25</td>\n",
       "      <td>0</td>\n",
       "      <td>0</td>\n",
       "    </tr>\n",
       "    <tr>\n",
       "      <th>10107</th>\n",
       "      <td>900065925</td>\n",
       "      <td>le Quoc Toan Tran</td>\n",
       "      <td>VIE</td>\n",
       "      <td>male</td>\n",
       "      <td>4/5/89</td>\n",
       "      <td>1.60</td>\n",
       "      <td>56.0</td>\n",
       "      <td>weightlifting</td>\n",
       "      <td>0</td>\n",
       "      <td>0</td>\n",
       "      <td>0</td>\n",
       "      <td>9.170380e+07</td>\n",
       "      <td>2111.138024</td>\n",
       "      <td>1989-04-05</td>\n",
       "      <td>27</td>\n",
       "      <td>0</td>\n",
       "      <td>0</td>\n",
       "    </tr>\n",
       "    <tr>\n",
       "      <th>10108</th>\n",
       "      <td>711404576</td>\n",
       "      <td>le Roux Hamman</td>\n",
       "      <td>RSA</td>\n",
       "      <td>male</td>\n",
       "      <td>1/6/92</td>\n",
       "      <td>1.85</td>\n",
       "      <td>70.0</td>\n",
       "      <td>athletics</td>\n",
       "      <td>0</td>\n",
       "      <td>0</td>\n",
       "      <td>0</td>\n",
       "      <td>5.495692e+07</td>\n",
       "      <td>5723.973357</td>\n",
       "      <td>1992-01-06</td>\n",
       "      <td>24</td>\n",
       "      <td>0</td>\n",
       "      <td>0</td>\n",
       "    </tr>\n",
       "  </tbody>\n",
       "</table>\n",
       "<p>10109 rows × 17 columns</p>\n",
       "</div>"
      ],
      "text/plain": [
       "              id                 name nationality     sex       dob  height  \\\n",
       "0      736041664       A Jesus Garcia         ESP    male  10/17/69    1.72   \n",
       "1      532037425           A Lam Shin         KOR  female   9/23/86    1.68   \n",
       "2      435962603          Aaron Brown         CAN    male   5/27/92    1.98   \n",
       "3      521041435           Aaron Cook         MDA    male    1/2/91    1.83   \n",
       "4       33922579           Aaron Gate         NZL    male  11/26/90    1.81   \n",
       "...          ...                  ...         ...     ...       ...     ...   \n",
       "10104  801825063  Zurabi Iakobishvili         GEO    male    2/4/92    1.71   \n",
       "10105  214461847       Zuzana Hejnova         CZE  female  12/19/86    1.73   \n",
       "10106   88361042              di Xiao         CHN    male   5/14/91    1.85   \n",
       "10107  900065925    le Quoc Toan Tran         VIE    male    4/5/89    1.60   \n",
       "10108  711404576       le Roux Hamman         RSA    male    1/6/92    1.85   \n",
       "\n",
       "       weight          sport  gold  silver  bronze    population  \\\n",
       "0        64.0      athletics     0       0       0  4.641827e+07   \n",
       "1        56.0        fencing     0       0       0  5.061704e+07   \n",
       "2        79.0      athletics     0       0       1  3.585177e+07   \n",
       "3        80.0      taekwondo     0       0       0  3.554150e+06   \n",
       "4        71.0        cycling     0       0       0  4.595700e+06   \n",
       "...       ...            ...   ...     ...     ...           ...   \n",
       "10104    68.0      wrestling     0       0       0  3.679000e+06   \n",
       "10105    63.0      athletics     0       0       0  1.055122e+07   \n",
       "10106   100.0      wrestling     0       0       0  1.371220e+09   \n",
       "10107    56.0  weightlifting     0       0       0  9.170380e+07   \n",
       "10108    70.0      athletics     0       0       0  5.495692e+07   \n",
       "\n",
       "       gdp_per_capita dob_converted  age  total_medals  placed  \n",
       "0        25831.582305    2069-10-17   46             0       0  \n",
       "1        27221.524051    1986-09-23   29             0       0  \n",
       "2        43248.529909    1992-05-27   24             1       1  \n",
       "3         1848.061804    1991-01-02   25             0       0  \n",
       "4        37807.967276    1990-11-26   25             0       0  \n",
       "...               ...           ...  ...           ...     ...  \n",
       "10104     3795.973308    1992-02-04   24             0       0  \n",
       "10105    17548.338213    1986-12-19   29             0       0  \n",
       "10106     8027.683810    1991-05-14   25             0       0  \n",
       "10107     2111.138024    1989-04-05   27             0       0  \n",
       "10108     5723.973357    1992-01-06   24             0       0  \n",
       "\n",
       "[10109 rows x 17 columns]"
      ]
     },
     "execution_count": 2,
     "metadata": {},
     "output_type": "execute_result"
    }
   ],
   "source": [
    "file = '../ETL/model_dataset_cleaned.csv'\n",
    "olympic_df = pd.read_csv(file)\n",
    "olympic_df"
   ]
  },
  {
   "cell_type": "code",
   "execution_count": 3,
   "metadata": {},
   "outputs": [
    {
     "name": "stdout",
     "output_type": "stream",
     "text": [
      "<class 'pandas.core.frame.DataFrame'>\n",
      "RangeIndex: 10109 entries, 0 to 10108\n",
      "Data columns (total 17 columns):\n",
      " #   Column          Non-Null Count  Dtype  \n",
      "---  ------          --------------  -----  \n",
      " 0   id              10109 non-null  int64  \n",
      " 1   name            10109 non-null  object \n",
      " 2   nationality     10109 non-null  object \n",
      " 3   sex             10109 non-null  object \n",
      " 4   dob             10109 non-null  object \n",
      " 5   height          10109 non-null  float64\n",
      " 6   weight          10109 non-null  float64\n",
      " 7   sport           10109 non-null  object \n",
      " 8   gold            10109 non-null  int64  \n",
      " 9   silver          10109 non-null  int64  \n",
      " 10  bronze          10109 non-null  int64  \n",
      " 11  population      10109 non-null  float64\n",
      " 12  gdp_per_capita  10109 non-null  float64\n",
      " 13  dob_converted   10109 non-null  object \n",
      " 14  age             10109 non-null  int64  \n",
      " 15  total_medals    10109 non-null  int64  \n",
      " 16  placed          10109 non-null  int64  \n",
      "dtypes: float64(4), int64(7), object(6)\n",
      "memory usage: 1.3+ MB\n"
     ]
    }
   ],
   "source": [
    "olympic_df.info()"
   ]
  },
  {
   "cell_type": "code",
   "execution_count": 4,
   "metadata": {},
   "outputs": [
    {
     "data": {
      "text/html": [
       "<div>\n",
       "<style scoped>\n",
       "    .dataframe tbody tr th:only-of-type {\n",
       "        vertical-align: middle;\n",
       "    }\n",
       "\n",
       "    .dataframe tbody tr th {\n",
       "        vertical-align: top;\n",
       "    }\n",
       "\n",
       "    .dataframe thead th {\n",
       "        text-align: right;\n",
       "    }\n",
       "</style>\n",
       "<table border=\"1\" class=\"dataframe\">\n",
       "  <thead>\n",
       "    <tr style=\"text-align: right;\">\n",
       "      <th></th>\n",
       "      <th>height</th>\n",
       "      <th>weight</th>\n",
       "      <th>gdp_per_capita</th>\n",
       "      <th>age</th>\n",
       "      <th>sport_AFG</th>\n",
       "      <th>sport_ALB</th>\n",
       "      <th>sport_ALG</th>\n",
       "      <th>sport_ANG</th>\n",
       "      <th>sport_ANT</th>\n",
       "      <th>sport_ARG</th>\n",
       "      <th>...</th>\n",
       "      <th>nationality_rugby sevens</th>\n",
       "      <th>nationality_sailing</th>\n",
       "      <th>nationality_shooting</th>\n",
       "      <th>nationality_table tennis</th>\n",
       "      <th>nationality_taekwondo</th>\n",
       "      <th>nationality_tennis</th>\n",
       "      <th>nationality_triathlon</th>\n",
       "      <th>nationality_volleyball</th>\n",
       "      <th>nationality_weightlifting</th>\n",
       "      <th>nationality_wrestling</th>\n",
       "    </tr>\n",
       "  </thead>\n",
       "  <tbody>\n",
       "    <tr>\n",
       "      <th>0</th>\n",
       "      <td>1.72</td>\n",
       "      <td>64.0</td>\n",
       "      <td>25831.582305</td>\n",
       "      <td>46</td>\n",
       "      <td>0</td>\n",
       "      <td>0</td>\n",
       "      <td>0</td>\n",
       "      <td>0</td>\n",
       "      <td>0</td>\n",
       "      <td>0</td>\n",
       "      <td>...</td>\n",
       "      <td>0</td>\n",
       "      <td>0</td>\n",
       "      <td>0</td>\n",
       "      <td>0</td>\n",
       "      <td>0</td>\n",
       "      <td>0</td>\n",
       "      <td>0</td>\n",
       "      <td>0</td>\n",
       "      <td>0</td>\n",
       "      <td>0</td>\n",
       "    </tr>\n",
       "    <tr>\n",
       "      <th>1</th>\n",
       "      <td>1.68</td>\n",
       "      <td>56.0</td>\n",
       "      <td>27221.524051</td>\n",
       "      <td>29</td>\n",
       "      <td>0</td>\n",
       "      <td>0</td>\n",
       "      <td>0</td>\n",
       "      <td>0</td>\n",
       "      <td>0</td>\n",
       "      <td>0</td>\n",
       "      <td>...</td>\n",
       "      <td>0</td>\n",
       "      <td>0</td>\n",
       "      <td>0</td>\n",
       "      <td>0</td>\n",
       "      <td>0</td>\n",
       "      <td>0</td>\n",
       "      <td>0</td>\n",
       "      <td>0</td>\n",
       "      <td>0</td>\n",
       "      <td>0</td>\n",
       "    </tr>\n",
       "    <tr>\n",
       "      <th>2</th>\n",
       "      <td>1.98</td>\n",
       "      <td>79.0</td>\n",
       "      <td>43248.529909</td>\n",
       "      <td>24</td>\n",
       "      <td>0</td>\n",
       "      <td>0</td>\n",
       "      <td>0</td>\n",
       "      <td>0</td>\n",
       "      <td>0</td>\n",
       "      <td>0</td>\n",
       "      <td>...</td>\n",
       "      <td>0</td>\n",
       "      <td>0</td>\n",
       "      <td>0</td>\n",
       "      <td>0</td>\n",
       "      <td>0</td>\n",
       "      <td>0</td>\n",
       "      <td>0</td>\n",
       "      <td>0</td>\n",
       "      <td>0</td>\n",
       "      <td>0</td>\n",
       "    </tr>\n",
       "    <tr>\n",
       "      <th>3</th>\n",
       "      <td>1.83</td>\n",
       "      <td>80.0</td>\n",
       "      <td>1848.061804</td>\n",
       "      <td>25</td>\n",
       "      <td>0</td>\n",
       "      <td>0</td>\n",
       "      <td>0</td>\n",
       "      <td>0</td>\n",
       "      <td>0</td>\n",
       "      <td>0</td>\n",
       "      <td>...</td>\n",
       "      <td>0</td>\n",
       "      <td>0</td>\n",
       "      <td>0</td>\n",
       "      <td>0</td>\n",
       "      <td>1</td>\n",
       "      <td>0</td>\n",
       "      <td>0</td>\n",
       "      <td>0</td>\n",
       "      <td>0</td>\n",
       "      <td>0</td>\n",
       "    </tr>\n",
       "    <tr>\n",
       "      <th>4</th>\n",
       "      <td>1.81</td>\n",
       "      <td>71.0</td>\n",
       "      <td>37807.967276</td>\n",
       "      <td>25</td>\n",
       "      <td>0</td>\n",
       "      <td>0</td>\n",
       "      <td>0</td>\n",
       "      <td>0</td>\n",
       "      <td>0</td>\n",
       "      <td>0</td>\n",
       "      <td>...</td>\n",
       "      <td>0</td>\n",
       "      <td>0</td>\n",
       "      <td>0</td>\n",
       "      <td>0</td>\n",
       "      <td>0</td>\n",
       "      <td>0</td>\n",
       "      <td>0</td>\n",
       "      <td>0</td>\n",
       "      <td>0</td>\n",
       "      <td>0</td>\n",
       "    </tr>\n",
       "  </tbody>\n",
       "</table>\n",
       "<p>5 rows × 198 columns</p>\n",
       "</div>"
      ],
      "text/plain": [
       "   height  weight  gdp_per_capita  age  sport_AFG  sport_ALB  sport_ALG  \\\n",
       "0    1.72    64.0    25831.582305   46          0          0          0   \n",
       "1    1.68    56.0    27221.524051   29          0          0          0   \n",
       "2    1.98    79.0    43248.529909   24          0          0          0   \n",
       "3    1.83    80.0     1848.061804   25          0          0          0   \n",
       "4    1.81    71.0    37807.967276   25          0          0          0   \n",
       "\n",
       "   sport_ANG  sport_ANT  sport_ARG  ...  nationality_rugby sevens  \\\n",
       "0          0          0          0  ...                         0   \n",
       "1          0          0          0  ...                         0   \n",
       "2          0          0          0  ...                         0   \n",
       "3          0          0          0  ...                         0   \n",
       "4          0          0          0  ...                         0   \n",
       "\n",
       "   nationality_sailing  nationality_shooting  nationality_table tennis  \\\n",
       "0                    0                     0                         0   \n",
       "1                    0                     0                         0   \n",
       "2                    0                     0                         0   \n",
       "3                    0                     0                         0   \n",
       "4                    0                     0                         0   \n",
       "\n",
       "   nationality_taekwondo  nationality_tennis  nationality_triathlon  \\\n",
       "0                      0                   0                      0   \n",
       "1                      0                   0                      0   \n",
       "2                      0                   0                      0   \n",
       "3                      1                   0                      0   \n",
       "4                      0                   0                      0   \n",
       "\n",
       "   nationality_volleyball  nationality_weightlifting  nationality_wrestling  \n",
       "0                       0                          0                      0  \n",
       "1                       0                          0                      0  \n",
       "2                       0                          0                      0  \n",
       "3                       0                          0                      0  \n",
       "4                       0                          0                      0  \n",
       "\n",
       "[5 rows x 198 columns]"
      ]
     },
     "execution_count": 4,
     "metadata": {},
     "output_type": "execute_result"
    }
   ],
   "source": [
    "#dropping descriptive columns as well as the dependant variables (gold, silver, bronze, total medals, placed)\n",
    "X = olympic_df.drop(columns=[\"id\", \"name\", \"gold\",\"dob\", \"dob_converted\", \"bronze\",\"silver\",\"population\",\"total_medals\",\"placed\"])\n",
    "\n",
    "#create dummy columns for sport and sex \n",
    "obj_columns = [\"sport\", \"sex\", \"nationality\"]\n",
    "X = pd.get_dummies(X, obj_columns)\n",
    "\n",
    "X.head()"
   ]
  },
  {
   "cell_type": "code",
   "execution_count": 5,
   "metadata": {},
   "outputs": [],
   "source": [
    "#Here we are using the binary outcome \"placed\" as the depedant variable\n",
    "y=olympic_df[\"placed\"]"
   ]
  },
  {
   "cell_type": "code",
   "execution_count": 6,
   "metadata": {},
   "outputs": [
    {
     "data": {
      "text/plain": [
       "0    8458\n",
       "1    1651\n",
       "Name: placed, dtype: int64"
      ]
     },
     "execution_count": 6,
     "metadata": {},
     "output_type": "execute_result"
    }
   ],
   "source": [
    "y.value_counts()"
   ]
  },
  {
   "cell_type": "code",
   "execution_count": 7,
   "metadata": {},
   "outputs": [
    {
     "data": {
      "text/plain": [
       "0        0\n",
       "1        0\n",
       "2        1\n",
       "3        0\n",
       "4        0\n",
       "        ..\n",
       "10104    0\n",
       "10105    0\n",
       "10106    0\n",
       "10107    0\n",
       "10108    0\n",
       "Name: placed, Length: 10109, dtype: int64"
      ]
     },
     "execution_count": 7,
     "metadata": {},
     "output_type": "execute_result"
    }
   ],
   "source": [
    "y"
   ]
  },
  {
   "cell_type": "markdown",
   "metadata": {},
   "source": [
    "### Splitting the dataset using train_test_split "
   ]
  },
  {
   "cell_type": "code",
   "execution_count": 8,
   "metadata": {},
   "outputs": [],
   "source": [
    "from sklearn.model_selection import train_test_split\n",
    "X_train, X_test, y_train, y_test = train_test_split(X, y)"
   ]
  },
  {
   "cell_type": "markdown",
   "metadata": {},
   "source": [
    "## Logistic Regression using Naive Random Oversampling"
   ]
  },
  {
   "cell_type": "code",
   "execution_count": 9,
   "metadata": {},
   "outputs": [
    {
     "data": {
      "text/plain": [
       "Counter({0: 6371, 1: 6371})"
      ]
     },
     "execution_count": 9,
     "metadata": {},
     "output_type": "execute_result"
    }
   ],
   "source": [
    "# Resample the training data with the RandomOversampler\n",
    "from imblearn.over_sampling import RandomOverSampler\n",
    "ros = RandomOverSampler(random_state=1)\n",
    "X_resampled, y_resampled = ros.fit_resample(X_train, y_train)\n",
    "Counter(y_resampled)"
   ]
  },
  {
   "cell_type": "code",
   "execution_count": 10,
   "metadata": {},
   "outputs": [
    {
     "data": {
      "text/plain": [
       "LogisticRegression(random_state=1)"
      ]
     },
     "execution_count": 10,
     "metadata": {},
     "output_type": "execute_result"
    }
   ],
   "source": [
    "# Train the Logistic Regression model using the resampled data\n",
    "from sklearn.linear_model import LogisticRegression\n",
    "model = LogisticRegression(solver='lbfgs', random_state=1)\n",
    "model.fit(X, y)"
   ]
  },
  {
   "cell_type": "code",
   "execution_count": 11,
   "metadata": {},
   "outputs": [
    {
     "data": {
      "text/plain": [
       "0.49976042165788215"
      ]
     },
     "execution_count": 11,
     "metadata": {},
     "output_type": "execute_result"
    }
   ],
   "source": [
    "# Calculated the balanced accuracy score\n",
    "from sklearn.metrics import balanced_accuracy_score\n",
    "y_pred = model.predict(X_test)\n",
    "balanced_accuracy_score(y_test, y_pred)"
   ]
  },
  {
   "cell_type": "code",
   "execution_count": 12,
   "metadata": {},
   "outputs": [
    {
     "data": {
      "text/plain": [
       "array([[2086,    1],\n",
       "       [ 441,    0]], dtype=int64)"
      ]
     },
     "execution_count": 12,
     "metadata": {},
     "output_type": "execute_result"
    }
   ],
   "source": [
    "# Display the confusion matrix\n",
    "from sklearn.metrics import confusion_matrix\n",
    "confusion_matrix(y_test, y_pred)"
   ]
  },
  {
   "cell_type": "code",
   "execution_count": 13,
   "metadata": {},
   "outputs": [
    {
     "name": "stdout",
     "output_type": "stream",
     "text": [
      "                   pre       rec       spe        f1       geo       iba       sup\n",
      "\n",
      "          0       0.83      1.00      0.00      0.90      0.00      0.00      2087\n",
      "          1       0.00      0.00      1.00      0.00      0.00      0.00       441\n",
      "\n",
      "avg / total       0.68      0.83      0.17      0.75      0.00      0.00      2528\n",
      "\n"
     ]
    }
   ],
   "source": [
    "# Print the imbalanced classification report\n",
    "from imblearn.metrics import classification_report_imbalanced\n",
    "print(classification_report_imbalanced(y_test, y_pred))"
   ]
  },
  {
   "cell_type": "code",
   "execution_count": 19,
   "metadata": {},
   "outputs": [
    {
     "name": "stdout",
     "output_type": "stream",
     "text": [
      "0.0\n"
     ]
    }
   ],
   "source": []
  },
  {
   "cell_type": "markdown",
   "metadata": {},
   "source": [
    "## SMOTE Oversampling"
   ]
  },
  {
   "cell_type": "code",
   "execution_count": 14,
   "metadata": {},
   "outputs": [
    {
     "data": {
      "text/plain": [
       "Counter({0: 6358, 1: 6358})"
      ]
     },
     "execution_count": 14,
     "metadata": {},
     "output_type": "execute_result"
    }
   ],
   "source": [
    "# Resample the training data with SMOTE\n",
    "from imblearn.over_sampling import SMOTE\n",
    "X_resampled, y_resampled = SMOTE(random_state=1,\n",
    "sampling_strategy='auto').fit_resample(\n",
    "   X_train, y_train)\n",
    "Counter(y_resampled)"
   ]
  },
  {
   "cell_type": "code",
   "execution_count": 15,
   "metadata": {},
   "outputs": [
    {
     "data": {
      "text/plain": [
       "LogisticRegression(random_state=1)"
      ]
     },
     "execution_count": 15,
     "metadata": {},
     "output_type": "execute_result"
    }
   ],
   "source": [
    "# Train the Logistic Regression model using the resampled data\n",
    "model = LogisticRegression(solver='lbfgs', random_state=1)\n",
    "model.fit(X_resampled, y_resampled)"
   ]
  },
  {
   "cell_type": "code",
   "execution_count": 16,
   "metadata": {},
   "outputs": [
    {
     "data": {
      "text/plain": [
       "0.5950178015131287"
      ]
     },
     "execution_count": 16,
     "metadata": {},
     "output_type": "execute_result"
    }
   ],
   "source": [
    "# Calculated the balanced accuracy score\n",
    "y_pred = model.predict(X_test)\n",
    "balanced_accuracy_score(y_test, y_pred)"
   ]
  },
  {
   "cell_type": "code",
   "execution_count": 17,
   "metadata": {},
   "outputs": [
    {
     "data": {
      "text/plain": [
       "array([[1243,  857],\n",
       "       [ 172,  256]], dtype=int64)"
      ]
     },
     "execution_count": 17,
     "metadata": {},
     "output_type": "execute_result"
    }
   ],
   "source": [
    "# Display the confusion matrix\n",
    "confusion_matrix(y_test, y_pred)"
   ]
  },
  {
   "cell_type": "code",
   "execution_count": 18,
   "metadata": {},
   "outputs": [
    {
     "name": "stdout",
     "output_type": "stream",
     "text": [
      "                   pre       rec       spe        f1       geo       iba       sup\n",
      "\n",
      "          0       0.88      0.59      0.60      0.71      0.60      0.35      2100\n",
      "          1       0.23      0.60      0.59      0.33      0.60      0.35       428\n",
      "\n",
      "avg / total       0.77      0.59      0.60      0.64      0.60      0.35      2528\n",
      "\n"
     ]
    }
   ],
   "source": [
    "# Print the imbalanced classification report\n",
    "print(classification_report_imbalanced(y_test, y_pred))"
   ]
  },
  {
   "cell_type": "markdown",
   "metadata": {},
   "source": [
    "## Undersampling"
   ]
  },
  {
   "cell_type": "code",
   "execution_count": 19,
   "metadata": {},
   "outputs": [
    {
     "data": {
      "text/plain": [
       "Counter({0: 1223, 1: 1223})"
      ]
     },
     "execution_count": 19,
     "metadata": {},
     "output_type": "execute_result"
    }
   ],
   "source": [
    "# Resample the data using the ClusterCentroids resampler\n",
    "from imblearn.under_sampling import ClusterCentroids\n",
    "ccus = ClusterCentroids(random_state=1)\n",
    "X_resampled, y_resampled = ccus.fit_resample(X_train, y_train)\n",
    "Counter(y_resampled)"
   ]
  },
  {
   "cell_type": "code",
   "execution_count": 20,
   "metadata": {},
   "outputs": [
    {
     "name": "stderr",
     "output_type": "stream",
     "text": [
      "C:\\Users\\Matt\\anaconda3\\lib\\site-packages\\sklearn\\linear_model\\_logistic.py:762: ConvergenceWarning: lbfgs failed to converge (status=1):\n",
      "STOP: TOTAL NO. of ITERATIONS REACHED LIMIT.\n",
      "\n",
      "Increase the number of iterations (max_iter) or scale the data as shown in:\n",
      "    https://scikit-learn.org/stable/modules/preprocessing.html\n",
      "Please also refer to the documentation for alternative solver options:\n",
      "    https://scikit-learn.org/stable/modules/linear_model.html#logistic-regression\n",
      "  n_iter_i = _check_optimize_result(\n"
     ]
    },
    {
     "data": {
      "text/plain": [
       "LogisticRegression(random_state=1)"
      ]
     },
     "execution_count": 20,
     "metadata": {},
     "output_type": "execute_result"
    }
   ],
   "source": [
    "# Train the Logistic Regression model using the resampled data\n",
    "model = LogisticRegression(solver='lbfgs', random_state=1)\n",
    "model.fit(X_resampled, y_resampled)"
   ]
  },
  {
   "cell_type": "code",
   "execution_count": 21,
   "metadata": {},
   "outputs": [
    {
     "data": {
      "text/plain": [
       "0.5746395193591456"
      ]
     },
     "execution_count": 21,
     "metadata": {},
     "output_type": "execute_result"
    }
   ],
   "source": [
    "# Calculated the balanced accuracy score\n",
    "y_pred = model.predict(X_test)\n",
    "balanced_accuracy_score(y_test, y_pred)"
   ]
  },
  {
   "cell_type": "code",
   "execution_count": 22,
   "metadata": {},
   "outputs": [
    {
     "data": {
      "text/plain": [
       "array([[ 549, 1551],\n",
       "       [  48,  380]], dtype=int64)"
      ]
     },
     "execution_count": 22,
     "metadata": {},
     "output_type": "execute_result"
    }
   ],
   "source": [
    "# Display the confusion matrix\n",
    "confusion_matrix(y_test, y_pred)"
   ]
  },
  {
   "cell_type": "code",
   "execution_count": 23,
   "metadata": {},
   "outputs": [
    {
     "name": "stdout",
     "output_type": "stream",
     "text": [
      "                   pre       rec       spe        f1       geo       iba       sup\n",
      "\n",
      "          0       0.92      0.26      0.89      0.41      0.48      0.22      2100\n",
      "          1       0.20      0.89      0.26      0.32      0.48      0.25       428\n",
      "\n",
      "avg / total       0.80      0.37      0.78      0.39      0.48      0.22      2528\n",
      "\n"
     ]
    }
   ],
   "source": [
    "# Print the imbalanced classification report\n",
    "print(classification_report_imbalanced(y_test, y_pred))"
   ]
  },
  {
   "cell_type": "markdown",
   "metadata": {},
   "source": [
    "## Combination (Over and Under) Sampling (SMOTEENN)"
   ]
  },
  {
   "cell_type": "code",
   "execution_count": 24,
   "metadata": {},
   "outputs": [
    {
     "data": {
      "text/plain": [
       "Counter({0: 4653, 1: 6709})"
      ]
     },
     "execution_count": 24,
     "metadata": {},
     "output_type": "execute_result"
    }
   ],
   "source": [
    "# Resample the training data with SMOTEENN\n",
    "# Warning: This is a large dataset, and this step may take some time to complete\n",
    "from imblearn.combine import SMOTEENN\n",
    "smote_enn = SMOTEENN(random_state=1)\n",
    "X_resampled, y_resampled = smote_enn.fit_resample(X, y)\n",
    "Counter(y_resampled)"
   ]
  },
  {
   "cell_type": "code",
   "execution_count": 25,
   "metadata": {},
   "outputs": [
    {
     "data": {
      "text/plain": [
       "LogisticRegression(random_state=1)"
      ]
     },
     "execution_count": 25,
     "metadata": {},
     "output_type": "execute_result"
    }
   ],
   "source": [
    "# Train the Logistic Regression model using the resampled data\n",
    "model = LogisticRegression(solver='lbfgs', random_state=1)\n",
    "model.fit(X_resampled, y_resampled)"
   ]
  },
  {
   "cell_type": "code",
   "execution_count": 26,
   "metadata": {},
   "outputs": [
    {
     "data": {
      "text/plain": [
       "0.638235425011126"
      ]
     },
     "execution_count": 26,
     "metadata": {},
     "output_type": "execute_result"
    }
   ],
   "source": [
    "# Calculated the balanced accuracy score\n",
    "y_pred = model.predict(X_test)\n",
    "balanced_accuracy_score(y_test, y_pred)"
   ]
  },
  {
   "cell_type": "code",
   "execution_count": 27,
   "metadata": {},
   "outputs": [
    {
     "data": {
      "text/plain": [
       "array([[1189,  911],\n",
       "       [ 124,  304]], dtype=int64)"
      ]
     },
     "execution_count": 27,
     "metadata": {},
     "output_type": "execute_result"
    }
   ],
   "source": [
    "# Display the confusion matrix\n",
    "confusion_matrix(y_test, y_pred)"
   ]
  },
  {
   "cell_type": "code",
   "execution_count": 28,
   "metadata": {},
   "outputs": [
    {
     "name": "stdout",
     "output_type": "stream",
     "text": [
      "                   pre       rec       spe        f1       geo       iba       sup\n",
      "\n",
      "          0       0.91      0.57      0.71      0.70      0.63      0.40      2100\n",
      "          1       0.25      0.71      0.57      0.37      0.63      0.41       428\n",
      "\n",
      "avg / total       0.79      0.59      0.69      0.64      0.63      0.40      2528\n",
      "\n"
     ]
    }
   ],
   "source": [
    "# Print the imbalanced classification report\n",
    "print(classification_report_imbalanced(y_test, y_pred))"
   ]
  },
  {
   "cell_type": "markdown",
   "metadata": {},
   "source": [
    "# Random Forest \n",
    "Again using \"placed\" as the dependant variable"
   ]
  },
  {
   "cell_type": "code",
   "execution_count": 29,
   "metadata": {},
   "outputs": [],
   "source": [
    "# Resample the training data with the BalancedRandomForestClassifier\n",
    "from imblearn.ensemble import BalancedRandomForestClassifier\n",
    "from sklearn.datasets import make_classification\n",
    "clf = BalancedRandomForestClassifier(n_estimators=100, random_state=1).fit(X_train,y_train)"
   ]
  },
  {
   "cell_type": "code",
   "execution_count": 30,
   "metadata": {},
   "outputs": [
    {
     "data": {
      "text/plain": [
       "0.7910057854917668"
      ]
     },
     "execution_count": 30,
     "metadata": {},
     "output_type": "execute_result"
    }
   ],
   "source": [
    "# Calculated the balanced accuracy score\n",
    "y_pred = clf.predict(X_test)\n",
    "balanced_accuracy_score(y_test, y_pred)"
   ]
  },
  {
   "cell_type": "code",
   "execution_count": 31,
   "metadata": {},
   "outputs": [
    {
     "data": {
      "text/plain": [
       "array([[1654,  446],\n",
       "       [  88,  340]], dtype=int64)"
      ]
     },
     "execution_count": 31,
     "metadata": {},
     "output_type": "execute_result"
    }
   ],
   "source": [
    "# Display the confusion matrix\n",
    "confusion_matrix(y_test, y_pred)"
   ]
  },
  {
   "cell_type": "code",
   "execution_count": 32,
   "metadata": {},
   "outputs": [
    {
     "name": "stdout",
     "output_type": "stream",
     "text": [
      "                   pre       rec       spe        f1       geo       iba       sup\n",
      "\n",
      "          0       0.95      0.79      0.79      0.86      0.79      0.63      2100\n",
      "          1       0.43      0.79      0.79      0.56      0.79      0.63       428\n",
      "\n",
      "avg / total       0.86      0.79      0.79      0.81      0.79      0.63      2528\n",
      "\n"
     ]
    }
   ],
   "source": [
    "# Print the imbalanced classification report\n",
    "print(classification_report_imbalanced(y_test, y_pred))"
   ]
  },
  {
   "cell_type": "code",
   "execution_count": 33,
   "metadata": {},
   "outputs": [
    {
     "data": {
      "text/plain": [
       "[(0.1333135673076521, 'weight'),\n",
       " (0.12798642652324266, 'height'),\n",
       " (0.11522727293195008, 'age'),\n",
       " (0.10118383104284133, 'gdp_per_capita'),\n",
       " (0.026931416396363855, 'nationality_athletics'),\n",
       " (0.02004035078257427, 'sport_USA'),\n",
       " (0.0167855724016186, 'nationality_aquatics'),\n",
       " (0.016652477809768598, 'sex_male'),\n",
       " (0.015604812677893164, 'sex_female'),\n",
       " (0.014616620146561137, 'sport_RUS'),\n",
       " (0.013806141352996465, 'nationality_hockey'),\n",
       " (0.013539344552131495, 'sport_GER'),\n",
       " (0.012614322451619382, 'sport_GBR'),\n",
       " (0.012118809923120895, 'nationality_football'),\n",
       " (0.011158979213657806, 'nationality_rugby sevens'),\n",
       " (0.010604847314605141, 'nationality_cycling'),\n",
       " (0.009984676215640437, 'nationality_rowing'),\n",
       " (0.009646056942808515, 'sport_BRA'),\n",
       " (0.008967865912515843, 'nationality_volleyball'),\n",
       " (0.008954184713661559, 'nationality_canoe'),\n",
       " (0.008846759705192773, 'sport_CAN'),\n",
       " (0.00872409483431086, 'nationality_basketball'),\n",
       " (0.008710707550997433, 'nationality_sailing'),\n",
       " (0.008650567243391579, 'sport_FRA'),\n",
       " (0.008597266370912175, 'sport_CHN'),\n",
       " (0.008127358691553647, 'nationality_judo'),\n",
       " (0.007911543817655886, 'nationality_handball'),\n",
       " (0.00759704772907679, 'nationality_wrestling'),\n",
       " (0.007507915426287494, 'nationality_shooting'),\n",
       " (0.007366739755997408, 'nationality_gymnastics'),\n",
       " (0.007262842604773072, 'nationality_fencing'),\n",
       " (0.007091735757653843, 'sport_ESP'),\n",
       " (0.006859299949158803, 'sport_JPN'),\n",
       " (0.006722885126772228, 'sport_AUS'),\n",
       " (0.006359713079316375, 'sport_ITA'),\n",
       " (0.0062391961157164215, 'sport_JAM'),\n",
       " (0.006025480221205852, 'sport_NZL'),\n",
       " (0.0057418372190965895, 'nationality_equestrian'),\n",
       " (0.00556442800454022, 'nationality_weightlifting'),\n",
       " (0.005444619971375774, 'sport_NED'),\n",
       " (0.005347663870100438, 'sport_POL'),\n",
       " (0.005306094245182946, 'sport_DEN'),\n",
       " (0.005257140131205452, 'nationality_tennis'),\n",
       " (0.0052374265926437005, 'sport_ARG'),\n",
       " (0.005185834540433619, 'nationality_badminton'),\n",
       " (0.004863846906442934, 'nationality_taekwondo'),\n",
       " (0.004244035152548831, 'sport_SWE'),\n",
       " (0.004090760673338761, 'nationality_table tennis'),\n",
       " (0.0040199543728496176, 'sport_CRO'),\n",
       " (0.004008656937151232, 'sport_RSA'),\n",
       " (0.0037341505562299227, 'nationality_triathlon'),\n",
       " (0.0036068356582463906, 'sport_KOR'),\n",
       " (0.0035565684238759677, 'sport_HUN'),\n",
       " (0.00350580732768266, 'nationality_archery'),\n",
       " (0.0034558653501305433, 'nationality_golf'),\n",
       " (0.003351174561621323, 'sport_BEL'),\n",
       " (0.003177694989876444, 'sport_KEN'),\n",
       " (0.002969363908369256, 'sport_POR'),\n",
       " (0.0029500386613318195, 'sport_MEX'),\n",
       " (0.0027355742670114396, 'sport_UKR'),\n",
       " (0.002731162500026333, 'nationality_modern pentathlon'),\n",
       " (0.002684226380082055, 'sport_AZE'),\n",
       " (0.002526677638612215, 'sport_BLR'),\n",
       " (0.0025202754823480523, 'sport_CZE'),\n",
       " (0.0024590778951134656, 'sport_GRE'),\n",
       " (0.002444505770073056, 'sport_COL'),\n",
       " (0.0023030919816442365, 'sport_TUR'),\n",
       " (0.00229529392173387, 'sport_KAZ'),\n",
       " (0.0022928801897300153, 'sport_BUL'),\n",
       " (0.002244557818797265, 'sport_SUI'),\n",
       " (0.002228125946136871, 'sport_AUT'),\n",
       " (0.0020990701817158956, 'sport_EGY'),\n",
       " (0.002039419081049477, 'sport_FIN'),\n",
       " (0.0019431217091899716, 'sport_FIJ'),\n",
       " (0.0019348519257443488, 'sport_IND'),\n",
       " (0.0018969331947926251, 'sport_IRL'),\n",
       " (0.0018259144523377429, 'sport_LTU'),\n",
       " (0.0018189523884898137, 'sport_SVK'),\n",
       " (0.0017198920716982697, 'sport_GEO'),\n",
       " (0.0015836195619548816, 'sport_MAS'),\n",
       " (0.0015404318349034128, 'sport_ETH'),\n",
       " (0.0014182603001626005, 'sport_SLO'),\n",
       " (0.0013126682801204595, 'sport_UZB'),\n",
       " (0.0012840933844359582, 'sport_BAH'),\n",
       " (0.0012096656437279559, 'sport_QAT'),\n",
       " (0.001149877632549079, 'sport_ISR'),\n",
       " (0.0010798007037988635, 'sport_ALG'),\n",
       " (0.0010030507242676763, 'sport_TUN'),\n",
       " (0.0009690442082255165, 'sport_EST'),\n",
       " (0.000924876804664981, 'sport_HKG'),\n",
       " (0.0008696812923819686, 'sport_THA'),\n",
       " (0.0008358167679148984, 'sport_CHI'),\n",
       " (0.0008337964298687728, 'sport_NGR'),\n",
       " (0.0008332482676597569, 'sport_ARM'),\n",
       " (0.0007853204622709284, 'sport_SIN'),\n",
       " (0.0007731585683389102, 'sport_LAT'),\n",
       " (0.0007356624727578259, 'sport_INA'),\n",
       " (0.0006525223800604836, 'sport_MGL'),\n",
       " (0.0006024171506192133, 'sport_VIE'),\n",
       " (0.0005610118835447133, 'sport_MAR'),\n",
       " (0.0005606145442582691, 'sport_TJK'),\n",
       " (0.0005285744904277559, 'sport_IRQ'),\n",
       " (0.0005143166953638091, 'sport_MDA'),\n",
       " (0.0004993526201294692, 'sport_BRN'),\n",
       " (0.00046738334017882606, 'sport_BDI'),\n",
       " (0.00042860803760613525, 'sport_ZIM'),\n",
       " (0.00042438113896505966, 'sport_URU'),\n",
       " (0.00040962432296557316, 'sport_DOM'),\n",
       " (0.00039764824203872257, 'sport_JOR'),\n",
       " (0.00039706141683504726, 'sport_HON'),\n",
       " (0.00038002485355607274, 'sport_ECU'),\n",
       " (0.0003540611108900877, 'sport_ANG'),\n",
       " (0.0003527030843706837, 'sport_LUX'),\n",
       " (0.0003499418271550096, 'sport_PER'),\n",
       " (0.0002937463612237711, 'sport_UAE'),\n",
       " (0.00024633332214258794, 'sport_ISL'),\n",
       " (0.00024188771537215207, 'sport_MRI'),\n",
       " (0.00022863358650613574, 'sport_NIG'),\n",
       " (0.0002174809203674859, 'sport_GUA'),\n",
       " (0.00021709001448099222, 'sport_PHI'),\n",
       " (0.0002146667882657317, 'sport_SEN'),\n",
       " (0.00019894704134433298, 'sport_CYP'),\n",
       " (0.00019269357566439535, 'sport_KSA'),\n",
       " (0.00016606453705720042, 'sport_BAR'),\n",
       " (0.0001607464428307121, 'sport_CMR'),\n",
       " (0.00015566492216093563, 'sport_GAB'),\n",
       " (0.0001529379803631284, 'sport_CRC'),\n",
       " (0.00015190198005928597, 'sport_ANT'),\n",
       " (0.00010575669565150348, 'sport_PAN'),\n",
       " (9.045948715342462e-05, 'sport_TKM'),\n",
       " (8.631815171342765e-05, 'sport_BUR'),\n",
       " (8.559533431628021e-05, 'sport_CIV'),\n",
       " (8.428085972201878e-05, 'sport_ESA'),\n",
       " (8.075539547789056e-05, 'sport_KGZ'),\n",
       " (7.926706447481885e-05, 'sport_MLT'),\n",
       " (7.919172851458539e-05, 'sport_NOR'),\n",
       " (7.39821529413635e-05, 'sport_SKN'),\n",
       " (7.336049823569108e-05, 'sport_PLW'),\n",
       " (6.911377504993855e-05, 'sport_BIH'),\n",
       " (6.831999979987265e-05, 'sport_MYA'),\n",
       " (6.425291803166526e-05, 'sport_NRU'),\n",
       " (6.410660431075432e-05, 'sport_GUY'),\n",
       " (6.155558914843258e-05, 'sport_NAM'),\n",
       " (5.6653000835176364e-05, 'sport_LIB'),\n",
       " (5.5686652409532135e-05, 'sport_LCA'),\n",
       " (5.3203050408281375e-05, 'sport_GUI'),\n",
       " (4.883793481555987e-05, 'sport_CAF'),\n",
       " (4.755615123368126e-05, 'sport_FSM'),\n",
       " (4.471615253521962e-05, 'sport_PAK'),\n",
       " (4.450034606856731e-05, 'sport_SUR'),\n",
       " (4.4244688591234385e-05, 'sport_BEN'),\n",
       " (3.971798167583406e-05, 'sport_PAR'),\n",
       " (3.718686921934112e-05, 'sport_TGA'),\n",
       " (3.7182235263541075e-05, 'sport_MAD'),\n",
       " (3.714919978414732e-05, 'sport_SEY'),\n",
       " (3.446293899292966e-05, 'sport_GHA'),\n",
       " (3.3324712691905235e-05, 'sport_SRI'),\n",
       " (3.179080974149682e-05, 'sport_BOT'),\n",
       " (3.173532896382555e-05, 'sport_AFG'),\n",
       " (3.067213928693154e-05, 'sport_GBS'),\n",
       " (3.0106866413932572e-05, 'sport_MOZ'),\n",
       " (2.9023425957888254e-05, 'sport_BRU'),\n",
       " (2.8956764052196493e-05, 'sport_MLI'),\n",
       " (2.6468203206411392e-05, 'sport_SAM'),\n",
       " (2.5344603139283577e-05, 'sport_DMA'),\n",
       " (2.5025556098962894e-05, 'sport_LES'),\n",
       " (2.4708290083790252e-05, 'sport_ALB'),\n",
       " (2.4469013127651095e-05, 'sport_MKD'),\n",
       " (2.4112832691536006e-05, 'sport_BIZ'),\n",
       " (2.3123171804954956e-05, 'sport_CGO'),\n",
       " (2.296518155604465e-05, 'sport_BOL'),\n",
       " (2.2477539048840583e-05, 'sport_DJI'),\n",
       " (2.130374320724983e-05, 'sport_SUD'),\n",
       " (2.086780863974791e-05, 'sport_NEP'),\n",
       " (1.9805632218830494e-05, 'sport_SOL'),\n",
       " (1.9599854388416065e-05, 'sport_COD'),\n",
       " (1.7347679736038023e-05, 'sport_HAI'),\n",
       " (1.6322808859917603e-05, 'sport_ZAM'),\n",
       " (1.59938800023406e-05, 'sport_COM'),\n",
       " (1.5455055597538397e-05, 'sport_VAN'),\n",
       " (1.5345920309301128e-05, 'sport_CAM'),\n",
       " (1.4275787562671292e-05, 'sport_STP'),\n",
       " (1.2532252655574843e-05, 'sport_RWA'),\n",
       " (1.1932057137659198e-05, 'sport_VIN'),\n",
       " (1.1359723508897952e-05, 'sport_CPV'),\n",
       " (1.1150422508120228e-05, 'sport_LAO'),\n",
       " (1.0405225303146978e-05, 'sport_CHA'),\n",
       " (9.859921061797194e-06, 'sport_YEM'),\n",
       " (3.6545598379837504e-06, 'sport_SWZ'),\n",
       " (3.6189303595010267e-06, 'sport_MAW'),\n",
       " (2.388842216068109e-06, 'sport_TAN'),\n",
       " (1.8128900433080363e-06, 'sport_BHU'),\n",
       " (0.0, 'sport_TOG'),\n",
       " (0.0, 'sport_OMA'),\n",
       " (0.0, 'sport_NCA'),\n",
       " (0.0, 'sport_GRN'),\n",
       " (0.0, 'sport_GEQ'),\n",
       " (0.0, 'sport_BAN')]"
      ]
     },
     "execution_count": 33,
     "metadata": {},
     "output_type": "execute_result"
    }
   ],
   "source": [
    "# List the features sorted in descending order by feature importance\n",
    "sorted(zip(clf.feature_importances_, X_test.columns), reverse=True)"
   ]
  },
  {
   "cell_type": "markdown",
   "metadata": {},
   "source": [
    "## Random Forest using Easy Ensemble Classifier "
   ]
  },
  {
   "cell_type": "code",
   "execution_count": 34,
   "metadata": {},
   "outputs": [],
   "source": [
    "# Train the EasyEnsembleClassifier\n",
    "from imblearn.ensemble import EasyEnsembleClassifier\n",
    "clf = EasyEnsembleClassifier(n_estimators=100, random_state=1).fit(X_train,y_train)"
   ]
  },
  {
   "cell_type": "code",
   "execution_count": 35,
   "metadata": {},
   "outputs": [
    {
     "data": {
      "text/plain": [
       "0.6723653760569649"
      ]
     },
     "execution_count": 35,
     "metadata": {},
     "output_type": "execute_result"
    }
   ],
   "source": [
    "y_pred = clf.predict(X_test)\n",
    "balanced_accuracy_score(y_test, y_pred)"
   ]
  },
  {
   "cell_type": "code",
   "execution_count": 36,
   "metadata": {},
   "outputs": [
    {
     "data": {
      "text/plain": [
       "0.6723653760569649"
      ]
     },
     "execution_count": 36,
     "metadata": {},
     "output_type": "execute_result"
    }
   ],
   "source": [
    "# Calculated the balanced accuracy score\n",
    "y_pred = clf.predict(X_test)\n",
    "balanced_accuracy_score(y_test, y_pred)"
   ]
  },
  {
   "cell_type": "code",
   "execution_count": 37,
   "metadata": {},
   "outputs": [
    {
     "data": {
      "text/plain": [
       "array([[1298,  802],\n",
       "       [ 117,  311]], dtype=int64)"
      ]
     },
     "execution_count": 37,
     "metadata": {},
     "output_type": "execute_result"
    }
   ],
   "source": [
    "# Display the confusion matrix\n",
    "confusion_matrix(y_test, y_pred)"
   ]
  },
  {
   "cell_type": "code",
   "execution_count": 38,
   "metadata": {},
   "outputs": [
    {
     "name": "stdout",
     "output_type": "stream",
     "text": [
      "                   pre       rec       spe        f1       geo       iba       sup\n",
      "\n",
      "          0       0.92      0.62      0.73      0.74      0.67      0.44      2100\n",
      "          1       0.28      0.73      0.62      0.40      0.67      0.45       428\n",
      "\n",
      "avg / total       0.81      0.64      0.71      0.68      0.67      0.45      2528\n",
      "\n"
     ]
    }
   ],
   "source": [
    "# Print the imbalanced classification report\n",
    "print(classification_report_imbalanced(y_test, y_pred))"
   ]
  },
  {
   "cell_type": "code",
   "execution_count": null,
   "metadata": {},
   "outputs": [],
   "source": []
  }
 ],
 "metadata": {
  "kernelspec": {
   "display_name": "mlenv",
   "language": "python",
   "name": "mlenv"
  },
  "language_info": {
   "codemirror_mode": {
    "name": "ipython",
    "version": 3
   },
   "file_extension": ".py",
   "mimetype": "text/x-python",
   "name": "python",
   "nbconvert_exporter": "python",
   "pygments_lexer": "ipython3",
   "version": "3.8.5"
  }
 },
 "nbformat": 4,
 "nbformat_minor": 4
}
