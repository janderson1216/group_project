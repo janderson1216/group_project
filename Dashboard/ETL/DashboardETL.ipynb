{
 "cells": [
  {
   "cell_type": "markdown",
   "source": [
    "# Dashboard ETL Process"
   ],
   "metadata": {}
  },
  {
   "cell_type": "code",
   "execution_count": 1,
   "source": [
    "import csv\r\n",
    "import json\r\n",
    "import pandas as pd\r\n",
    "import numpy as np"
   ],
   "outputs": [],
   "metadata": {}
  },
  {
   "cell_type": "code",
   "execution_count": 2,
   "source": [
    "# Define filepaths for import\r\n",
    "baseLocation = r'C:\\Users\\billy\\group_project'\r\n",
    "countriesFilePath = r'C:\\Users\\billy\\group_project\\Group_Resources\\countries.csv'\r\n",
    "cleanedFilePath = r'C:\\Users\\billy\\group_project\\ETL\\model_dataset_cleaned.csv'\r\n",
    "initjsonFilePath = r'C:\\Users\\billy\\group_project\\Dashboard\\static\\js\\temp\\countryBoundries.json'\r\n",
    "jsonOutputFilePath = r'C:\\Users\\billy\\group_project\\Dashboard\\static\\js\\temp\\countryDataBoundriesOutput.json'"
   ],
   "outputs": [],
   "metadata": {}
  },
  {
   "cell_type": "code",
   "execution_count": 3,
   "source": [
    "# Load GeoJson data for update\r\n",
    "file = open(initjsonFilePath)\r\n",
    "countryBoundries = json.load(file)"
   ],
   "outputs": [],
   "metadata": {}
  },
  {
   "cell_type": "code",
   "execution_count": 4,
   "source": [
    "# Load cleaned dataset to pull data for json file update\r\n",
    "df_cleaned = pd.read_csv(cleanedFilePath)\r\n",
    "df_cleaned.head()"
   ],
   "outputs": [
    {
     "output_type": "execute_result",
     "data": {
      "text/html": [
       "<div>\n",
       "<style scoped>\n",
       "    .dataframe tbody tr th:only-of-type {\n",
       "        vertical-align: middle;\n",
       "    }\n",
       "\n",
       "    .dataframe tbody tr th {\n",
       "        vertical-align: top;\n",
       "    }\n",
       "\n",
       "    .dataframe thead th {\n",
       "        text-align: right;\n",
       "    }\n",
       "</style>\n",
       "<table border=\"1\" class=\"dataframe\">\n",
       "  <thead>\n",
       "    <tr style=\"text-align: right;\">\n",
       "      <th></th>\n",
       "      <th>id</th>\n",
       "      <th>name</th>\n",
       "      <th>nationality</th>\n",
       "      <th>sex</th>\n",
       "      <th>dob</th>\n",
       "      <th>height</th>\n",
       "      <th>weight</th>\n",
       "      <th>sport</th>\n",
       "      <th>gold</th>\n",
       "      <th>silver</th>\n",
       "      <th>bronze</th>\n",
       "      <th>population</th>\n",
       "      <th>gdp_per_capita</th>\n",
       "      <th>dob_converted</th>\n",
       "      <th>age</th>\n",
       "      <th>total_medals</th>\n",
       "      <th>placed</th>\n",
       "    </tr>\n",
       "  </thead>\n",
       "  <tbody>\n",
       "    <tr>\n",
       "      <th>0</th>\n",
       "      <td>736041664</td>\n",
       "      <td>A Jesus Garcia</td>\n",
       "      <td>ESP</td>\n",
       "      <td>male</td>\n",
       "      <td>10/17/69</td>\n",
       "      <td>1.72</td>\n",
       "      <td>64.0</td>\n",
       "      <td>athletics</td>\n",
       "      <td>0</td>\n",
       "      <td>0</td>\n",
       "      <td>0</td>\n",
       "      <td>46418269.0</td>\n",
       "      <td>25831.582305</td>\n",
       "      <td>2069-10-17</td>\n",
       "      <td>46</td>\n",
       "      <td>0</td>\n",
       "      <td>0</td>\n",
       "    </tr>\n",
       "    <tr>\n",
       "      <th>1</th>\n",
       "      <td>532037425</td>\n",
       "      <td>A Lam Shin</td>\n",
       "      <td>KOR</td>\n",
       "      <td>female</td>\n",
       "      <td>9/23/86</td>\n",
       "      <td>1.68</td>\n",
       "      <td>56.0</td>\n",
       "      <td>fencing</td>\n",
       "      <td>0</td>\n",
       "      <td>0</td>\n",
       "      <td>0</td>\n",
       "      <td>50617045.0</td>\n",
       "      <td>27221.524051</td>\n",
       "      <td>1986-09-23</td>\n",
       "      <td>29</td>\n",
       "      <td>0</td>\n",
       "      <td>0</td>\n",
       "    </tr>\n",
       "    <tr>\n",
       "      <th>2</th>\n",
       "      <td>435962603</td>\n",
       "      <td>Aaron Brown</td>\n",
       "      <td>CAN</td>\n",
       "      <td>male</td>\n",
       "      <td>5/27/92</td>\n",
       "      <td>1.98</td>\n",
       "      <td>79.0</td>\n",
       "      <td>athletics</td>\n",
       "      <td>0</td>\n",
       "      <td>0</td>\n",
       "      <td>1</td>\n",
       "      <td>35851774.0</td>\n",
       "      <td>43248.529909</td>\n",
       "      <td>1992-05-27</td>\n",
       "      <td>24</td>\n",
       "      <td>1</td>\n",
       "      <td>1</td>\n",
       "    </tr>\n",
       "    <tr>\n",
       "      <th>3</th>\n",
       "      <td>521041435</td>\n",
       "      <td>Aaron Cook</td>\n",
       "      <td>MDA</td>\n",
       "      <td>male</td>\n",
       "      <td>1/2/91</td>\n",
       "      <td>1.83</td>\n",
       "      <td>80.0</td>\n",
       "      <td>taekwondo</td>\n",
       "      <td>0</td>\n",
       "      <td>0</td>\n",
       "      <td>0</td>\n",
       "      <td>3554150.0</td>\n",
       "      <td>1848.061804</td>\n",
       "      <td>1991-01-02</td>\n",
       "      <td>25</td>\n",
       "      <td>0</td>\n",
       "      <td>0</td>\n",
       "    </tr>\n",
       "    <tr>\n",
       "      <th>4</th>\n",
       "      <td>33922579</td>\n",
       "      <td>Aaron Gate</td>\n",
       "      <td>NZL</td>\n",
       "      <td>male</td>\n",
       "      <td>11/26/90</td>\n",
       "      <td>1.81</td>\n",
       "      <td>71.0</td>\n",
       "      <td>cycling</td>\n",
       "      <td>0</td>\n",
       "      <td>0</td>\n",
       "      <td>0</td>\n",
       "      <td>4595700.0</td>\n",
       "      <td>37807.967276</td>\n",
       "      <td>1990-11-26</td>\n",
       "      <td>25</td>\n",
       "      <td>0</td>\n",
       "      <td>0</td>\n",
       "    </tr>\n",
       "  </tbody>\n",
       "</table>\n",
       "</div>"
      ],
      "text/plain": [
       "          id            name nationality     sex       dob  height  weight  \\\n",
       "0  736041664  A Jesus Garcia         ESP    male  10/17/69    1.72    64.0   \n",
       "1  532037425      A Lam Shin         KOR  female   9/23/86    1.68    56.0   \n",
       "2  435962603     Aaron Brown         CAN    male   5/27/92    1.98    79.0   \n",
       "3  521041435      Aaron Cook         MDA    male    1/2/91    1.83    80.0   \n",
       "4   33922579      Aaron Gate         NZL    male  11/26/90    1.81    71.0   \n",
       "\n",
       "       sport  gold  silver  bronze  population  gdp_per_capita dob_converted  \\\n",
       "0  athletics     0       0       0  46418269.0    25831.582305    2069-10-17   \n",
       "1    fencing     0       0       0  50617045.0    27221.524051    1986-09-23   \n",
       "2  athletics     0       0       1  35851774.0    43248.529909    1992-05-27   \n",
       "3  taekwondo     0       0       0   3554150.0     1848.061804    1991-01-02   \n",
       "4    cycling     0       0       0   4595700.0    37807.967276    1990-11-26   \n",
       "\n",
       "   age  total_medals  placed  \n",
       "0   46             0       0  \n",
       "1   29             0       0  \n",
       "2   24             1       1  \n",
       "3   25             0       0  \n",
       "4   25             0       0  "
      ]
     },
     "metadata": {},
     "execution_count": 4
    }
   ],
   "metadata": {}
  },
  {
   "cell_type": "code",
   "execution_count": 5,
   "source": [
    "# Function for transforming csv dataframe data into elements that can be joined with the JSON file\r\n",
    "def defineFeatures(groupFunction, dfInput, grouping, calcColumn, rounding):\r\n",
    "    if groupFunction == 'count':\r\n",
    "        df_defineFeatures = (dfInput.groupby(grouping)\r\n",
    "                            .count()\r\n",
    "                            .reset_index()[[grouping, calcColumn]]\r\n",
    "                            .set_index(grouping)\r\n",
    "                    )\r\n",
    "    elif round == 0:\r\n",
    "        df_defineFeatures = (dfInput.groupby(grouping)\r\n",
    "                                    .agg(groupFunction)\r\n",
    "                                    .reset_index()[[grouping, calcColumn]]\r\n",
    "                                    .set_index(grouping)\r\n",
    "                            )                    \r\n",
    "    else:\r\n",
    "        df_defineFeatures = (dfInput.groupby(grouping)\r\n",
    "                                    .agg(groupFunction)\r\n",
    "                                    .reset_index()[[grouping, calcColumn]]\r\n",
    "                                    .set_index(grouping).round(rounding)\r\n",
    "                            )\r\n",
    "\r\n",
    "    dict_defineFeatures = df_defineFeatures.to_dict(orient='dict')[calcColumn]    \r\n",
    "    \r\n",
    "    df_defineFeatures['percentile'] = df_defineFeatures[calcColumn].rank(pct=True)\r\n",
    "    df_defineFeatures.sort_values('percentile', ascending=False, inplace=True)\r\n",
    "\r\n",
    "    #percentileCol = f'percentile_{calcColumn}'\r\n",
    "    df_defineRank = df_defineFeatures.drop(columns=[calcColumn])\r\n",
    "    #.rename({'percentile': percentileCol}, axis=1)\r\n",
    "    #dict_defineRank = df_defineRank.to_dict(orient='dict')[percentileCol]\r\n",
    "    dict_defineRank = df_defineRank.to_dict(orient='dict')['percentile']\r\n",
    "    \r\n",
    "\r\n",
    "    return [df_defineFeatures, dict_defineFeatures, dict_defineRank]"
   ],
   "outputs": [],
   "metadata": {}
  },
  {
   "cell_type": "code",
   "execution_count": 6,
   "source": [
    "# Output list with dataframe and dictionary for required country data\r\n",
    "out_totalMedals = defineFeatures('sum', df_cleaned, 'nationality', 'total_medals', 0)\r\n",
    "out_countAthlete = defineFeatures('count', df_cleaned, 'nationality', 'name', 0)\r\n",
    "out_meanHeight = defineFeatures('mean', df_cleaned, 'nationality', 'height', 4)\r\n",
    "out_meanWeight = defineFeatures('mean', df_cleaned, 'nationality', 'weight', 4)\r\n",
    "out_meanAge = defineFeatures('mean', df_cleaned, 'nationality', 'age', 4)\r\n",
    "out_population = defineFeatures('mean', df_cleaned, 'nationality', 'population', 0)\r\n",
    "out_gdp = defineFeatures('mean', df_cleaned, 'nationality', 'gdp_per_capita', 0)"
   ],
   "outputs": [],
   "metadata": {}
  },
  {
   "cell_type": "code",
   "execution_count": 7,
   "source": [
    "# Parse dictionaries to update JSON file with athlete and country data\r\n",
    "dict_totalMedals = out_totalMedals[1]\r\n",
    "dict_countAthlete = out_countAthlete[1]\r\n",
    "dict_meanHeight = out_meanHeight[1]\r\n",
    "dict_meanWeight = out_meanWeight[1]\r\n",
    "dict_meanAge = out_meanAge[1]\r\n",
    "dict_population = out_population[1]\r\n",
    "dict_gdp = out_gdp[1]"
   ],
   "outputs": [],
   "metadata": {}
  },
  {
   "cell_type": "code",
   "execution_count": 8,
   "source": [
    "# Parse dictionaries to update JSON file with athlete and country rankings\r\n",
    "rank_totalMedals = out_totalMedals[2]\r\n",
    "rank_countAthlete = out_countAthlete[2]\r\n",
    "rank_meanHeight = out_meanHeight[2]\r\n",
    "rank_meanWeight = out_meanWeight[2]\r\n",
    "rank_meanAge = out_meanAge[2]\r\n",
    "rank_population = out_population[2]\r\n",
    "rank_gdp = out_gdp[2]"
   ],
   "outputs": [],
   "metadata": {}
  },
  {
   "cell_type": "markdown",
   "source": [
    "## Normalization of GDP and Medal Counts for Map Layers"
   ],
   "metadata": {}
  },
  {
   "cell_type": "code",
   "execution_count": 9,
   "source": [
    "# Calculate per capita (millions) medal counts and ranks\r\n",
    "df_medalsPerCapitaMill = out_totalMedals[0].merge(out_population[0],\r\n",
    "                                                  how='left',\r\n",
    "                                                  on='nationality',\r\n",
    "                                                  validate='many_to_one').drop(columns=['percentile_x', 'percentile_y'])\r\n",
    "df_medalsPerCapitaMill['medalsPerCapita'] = (1000000 \r\n",
    "                                             * (df_medalsPerCapitaMill['total_medals']\r\n",
    "                                             /df_medalsPerCapitaMill['population']\r\n",
    "                                                )\r\n",
    "                                             ).round(4)\r\n",
    "dict_medalsPerCapitaMill = df_medalsPerCapitaMill.to_dict(orient='dict')['medalsPerCapita']\r\n",
    "\r\n",
    "df_medalsPerCapitaMill['percentile'] = df_medalsPerCapitaMill['medalsPerCapita'].rank(pct=True)\r\n",
    "df_medalsPerCapitaMill.sort_values('percentile', ascending=False, inplace=True)\r\n",
    "\r\n",
    "rank_medalsPerCapitaMill = df_medalsPerCapitaMill.to_dict(orient='dict')['percentile']"
   ],
   "outputs": [],
   "metadata": {}
  },
  {
   "cell_type": "code",
   "execution_count": 10,
   "source": [
    "# Calculate per gdp medal counts\r\n",
    "df_medalsPerGdpThous = out_totalMedals[0].merge(out_gdp[0],\r\n",
    "                                           how='left',\r\n",
    "                                           on='nationality',\r\n",
    "                                           validate='many_to_one').drop(columns=['percentile_x', 'percentile_y'])\r\n",
    "df_medalsPerGdpThous['medalsPerGdp'] = (1000\r\n",
    "                                             * (df_medalsPerGdpThous['total_medals']\r\n",
    "                                             /df_medalsPerGdpThous['gdp_per_capita']\r\n",
    "                                                )\r\n",
    "                                             ).round(4)\r\n",
    "dict_medalsPerGdpThous = df_medalsPerGdpThous.to_dict(orient='dict')['medalsPerGdp']\r\n",
    "\r\n",
    "df_medalsPerGdpThous['percentile'] = df_medalsPerGdpThous['medalsPerGdp'].rank(pct=True)\r\n",
    "df_medalsPerGdpThous.sort_values('percentile', ascending=False, inplace=True)\r\n",
    "\r\n",
    "rank_medalsPerGdpThous = df_medalsPerGdpThous.to_dict(orient='dict')['percentile']"
   ],
   "outputs": [],
   "metadata": {}
  },
  {
   "cell_type": "markdown",
   "source": [
    "## Merge Olympic data with GeoJSON data"
   ],
   "metadata": {}
  },
  {
   "cell_type": "code",
   "execution_count": 11,
   "source": [
    "# Navigate to features in JSON file\r\n",
    "dict_features = countryBoundries['features']"
   ],
   "outputs": [],
   "metadata": {}
  },
  {
   "cell_type": "code",
   "execution_count": 12,
   "source": [
    "# Append JSON dictionary with athlete and country data\r\n",
    "for item in dict_features:\r\n",
    "    iso = item['properties']['ISO_A3']\r\n",
    "    item['properties']['population'] = dict_population.get(iso)\r\n",
    "    item['properties']['rank_population'] = rank_population.get(iso)\r\n",
    "    item['properties']['gdp_per_capita'] = dict_gdp.get(iso)    \r\n",
    "    item['properties']['rank_gdp_per_capita'] = rank_gdp.get(iso) \r\n",
    "    item['properties']['sumMedals'] = dict_totalMedals.get(iso)\r\n",
    "    item['properties']['rank_sumMedals'] = rank_totalMedals.get(iso)\r\n",
    "    item['properties']['countAthletes'] = dict_countAthlete.get(iso)\r\n",
    "    item['properties']['rank_countAthletes'] = rank_countAthlete.get(iso)\r\n",
    "    item['properties']['meanAthHeight'] = dict_meanHeight.get(iso)\r\n",
    "    item['properties']['rank_meanAthHeight'] = rank_meanHeight.get(iso)\r\n",
    "    item['properties']['meanAthWeight'] = dict_meanWeight.get(iso)\r\n",
    "    item['properties']['rank_meanAthWeight'] = rank_meanWeight.get(iso)\r\n",
    "    item['properties']['meanAthAge'] = dict_meanAge.get(iso)\r\n",
    "    item['properties']['rank_meanAthAge'] = rank_meanAge.get(iso)\r\n",
    "    item['properties']['MedalsPerCapitaMill'] = dict_medalsPerCapitaMill.get(iso)\r\n",
    "    item['properties']['rank_MedalsPerCapitaMill'] = rank_medalsPerCapitaMill.get(iso)\r\n",
    "    item['properties']['MedalsPerGdpThous'] = dict_medalsPerGdpThous.get(iso)\r\n",
    "    item['properties']['rank_MedalsPerGdpThous'] = rank_medalsPerGdpThous.get(iso)"
   ],
   "outputs": [],
   "metadata": {}
  },
  {
   "cell_type": "code",
   "execution_count": null,
   "source": [
    "# Output complete JSON file\r\n",
    "with open(jsonOutputFilePath, 'w', encoding='utf-8') as jsonFile:\r\n",
    "    jsonFile.write(json.dumps(dict_features, indent=4))"
   ],
   "outputs": [],
   "metadata": {}
  },
  {
   "cell_type": "markdown",
   "source": [
    "## Scatter plot data joins and outputs"
   ],
   "metadata": {}
  },
  {
   "cell_type": "code",
   "execution_count": 13,
   "source": [
    "# Define join datasets for scatter plot json file\r\n",
    "df_gdpScatter = out_gdp[0]['percentile'].reset_index()\r\n",
    "df_medalsScatter = df_medalsPerCapitaMill['percentile'].reset_index()"
   ],
   "outputs": [],
   "metadata": {}
  },
  {
   "cell_type": "code",
   "execution_count": 14,
   "source": [
    "# Merge dataset for json file transformation, drop missing data\r\n",
    "df_scatter = df_gdpScatter.merge(df_medalsScatter,\r\n",
    "                                 how='inner',\r\n",
    "                                 on='nationality')\\\r\n",
    "                          .rename({'percentile_x': 'percGDP', 'percentile_y': 'percMedals'}, axis=1)\\\r\n",
    "                          .set_index('nationality')"
   ],
   "outputs": [],
   "metadata": {}
  },
  {
   "cell_type": "code",
   "execution_count": 15,
   "source": [
    "# Parse dictionary for json output\r\n",
    "list_scatterGDP = list(df_scatter.to_dict(orient='dict')['percGDP'].values())\r\n",
    "list_scatterMedals = list(df_scatter.to_dict(orient='dict')['percMedals'].values())"
   ],
   "outputs": [],
   "metadata": {}
  },
  {
   "cell_type": "code",
   "execution_count": null,
   "source": [
    "# Output JSON files for scatterGDP array\r\n",
    "with open(r'C:\\Users\\billy\\group_project\\Dashboard\\static\\js\\data\\chartData\\list_scatterGDP.json', 'w', encoding='utf-8') as jsonFile:\r\n",
    "    jsonFile.write(json.dumps(list_scatterGDP, indent=4))"
   ],
   "outputs": [],
   "metadata": {}
  },
  {
   "cell_type": "code",
   "execution_count": null,
   "source": [
    "# Output JSON files for scatterMedals array\r\n",
    "with open(r'C:\\Users\\billy\\group_project\\Dashboard\\static\\js\\data\\chartData\\list_scatterMedals.json', 'w', encoding='utf-8') as jsonFile:\r\n",
    "    jsonFile.write(json.dumps(list_scatterMedals, indent=4))"
   ],
   "outputs": [],
   "metadata": {}
  },
  {
   "cell_type": "code",
   "execution_count": null,
   "source": [],
   "outputs": [],
   "metadata": {}
  }
 ],
 "metadata": {
  "orig_nbformat": 4,
  "language_info": {
   "name": "python",
   "version": "3.8.8",
   "mimetype": "text/x-python",
   "codemirror_mode": {
    "name": "ipython",
    "version": 3
   },
   "pygments_lexer": "ipython3",
   "nbconvert_exporter": "python",
   "file_extension": ".py"
  },
  "kernelspec": {
   "name": "python3",
   "display_name": "Python 3.8.8 64-bit ('base': conda)"
  },
  "interpreter": {
   "hash": "c897c9c1859ddf10b25dffe16e748715a3bc2eef5abc7eca83e60b957c0e8b01"
  }
 },
 "nbformat": 4,
 "nbformat_minor": 2
}